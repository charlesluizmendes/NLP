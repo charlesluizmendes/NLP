{
 "cells": [
  {
   "cell_type": "markdown",
   "id": "5a93e2cb",
   "metadata": {},
   "source": [
    "# Dataset CoLA"
   ]
  },
  {
   "cell_type": "markdown",
   "id": "f3328b6e",
   "metadata": {},
   "source": [
    "Primeiramente vamos baixar o pacopte wget para baixar o dataset CoLA:"
   ]
  },
  {
   "cell_type": "code",
   "execution_count": null,
   "id": "05044946",
   "metadata": {},
   "outputs": [],
   "source": [
    "!pip install wget"
   ]
  },
  {
   "cell_type": "markdown",
   "id": "8f8744d5",
   "metadata": {},
   "source": [
    "## Carregando o conjunto de dados (CoLA)\n",
    "\n",
    "Usaremos o conjunto de dados do *Corpus of Linguistic Acceptability (CoLA)* para a classificação de uma única frase. É um conjunto de frases rotuladas como gramaticalmente corretas ou incorretas. Foi publicado pela primeira vez em maio de 2018, e é um dos testes incluídos no “Benchmark GLUE” em que competem modelos como o BERT.\n",
    "\n",
    "Faça *download* do dataset neste link: https://nyu-mll.github.io/CoLA/ e descompacte o conjunto de dados na mesma pasta em que está trabalhando.\n",
    "\n",
    "Ou, se estiver no Colab, use o comando abaixo:\n"
   ]
  },
  {
   "cell_type": "code",
   "execution_count": null,
   "id": "f0513636",
   "metadata": {},
   "outputs": [],
   "source": [
    "import wget\n",
    "import zipfile\n",
    "import os\n",
    "\n",
    "print('Baixando dataset...')\n",
    "\n",
    "# URL para baixar o dataset em formato zip.\n",
    "url = 'https://nyu-mll.github.io/CoLA/cola_public_1.1.zip'\n",
    "\n",
    "# Caminhos\n",
    "zip_path = '../cola_public_1.1.zip'\n",
    "extract_path = '../dataset'\n",
    "\n",
    "# Baixar o arquivo, se necessário\n",
    "if not os.path.exists(zip_path):\n",
    "    wget.download(url, zip_path)\n",
    "\n",
    "# Extrair, se ainda não foi extraído\n",
    "if not os.path.exists(extract_path):\n",
    "    with zipfile.ZipFile(zip_path, 'r') as zip_ref:\n",
    "        zip_ref.extractall(extract_path)\n",
    "    print('Dataset extraído com sucesso.')\n",
    "else:\n",
    "    print('Dataset já extraído.')"
   ]
  }
 ],
 "metadata": {
  "kernelspec": {
   "display_name": "venv",
   "language": "python",
   "name": "python3"
  },
  "language_info": {
   "codemirror_mode": {
    "name": "ipython",
    "version": 3
   },
   "file_extension": ".py",
   "mimetype": "text/x-python",
   "name": "python",
   "nbconvert_exporter": "python",
   "pygments_lexer": "ipython3",
   "version": "3.10.11"
  }
 },
 "nbformat": 4,
 "nbformat_minor": 5
}
