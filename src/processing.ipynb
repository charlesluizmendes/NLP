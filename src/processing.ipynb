{
  "cells": [
    {
      "cell_type": "markdown",
      "metadata": {},
      "source": [
        "## O que é o BERT?\n",
        "\n",
        "BERT (introduzido neste [artigo](https://arxiv.org/abs/1810.04805)) significa Representações de Codificadores Bidirecionais a partir de Transformers. Se você não sabe o que a maioria desses termos significa – você veio ao lugar certo! Vamos destrinchar as ideias principais:\n",
        "\n",
        "- **Bidirecional** – Para entender o texto, é preciso olhar para trás (às palavras anteriores) e para frente (às palavras seguintes).\n",
        "- **Transformers** – O artigo [Attention Is All You Need](https://arxiv.org/abs/1706.03762) apresentou o modelo Transformer. O Transformer lê sequências inteiras de tokens de uma vez. Em certo sentido, o modelo é não-direcional, enquanto LSTMs leem sequencialmente (da esquerda para a direita ou vice-versa). O mecanismo de atenção permite aprender relações contextuais entre palavras (por exemplo, o pronome `his` em uma frase se refere a Jim).\n",
        "- **Embeddings contextuais (pré-treinados)** – O artigo [ELMO](https://arxiv.org/abs/1802.05365v2) introduziu uma forma de codificar palavras com base em seu significado/contexto. Por exemplo, \"nails\" pode ter múltiplos significados – unhas (de mãos/pés) e pregos de metal.\n",
        "\n",
        "BERT foi treinado mascarando 15% dos tokens com o objetivo de adivinhá-los. Um objetivo adicional foi prever a próxima sentença. Vamos ver exemplos dessas tarefas:\n",
        "\n",
        "### Modelagem de Linguagem Mascarada (Masked LM)\n",
        "\n",
        "O objetivo desta tarefa é adivinhar os tokens mascarados. Vamos ver um exemplo, sem complicar desnecessariamente:\n",
        "\n",
        "> That's `[mask]` she `[mask]` -> That's what she said\n",
        "\n",
        "### Previsão da Próxima Sentença (NSP)\n",
        "\n",
        "Dado um par de duas sentenças, a tarefa é indicar se a segunda segue ou não a primeira (classificação binária). Vamos continuar com o exemplo:\n",
        "\n",
        "*Entrada* = `[CLS]` That's `[mask]` she `[mask]`. [SEP] Hahaha, nice! [SEP]  \n",
        "*Rótulo* = *IsNext*\n",
        "\n",
        "*Entrada* = `[CLS]` That's `[mask]` she `[mask]`. [SEP] Dwight, you ignorant `[mask]`! [SEP]  \n",
        "*Rótulo* = *NotNext*\n",
        "\n",
        "O corpus de treinamento foi composto por dois conjuntos de dados: [Toronto Book Corpus](https://arxiv.org/abs/1506.06724) (800M de palavras) e a Wikipédia em inglês (2,500M de palavras). Enquanto o Transformer original possui um codificador (para ler a entrada) e um decodificador (que faz a predição), o BERT utiliza apenas o decodificador.\n",
        "\n",
        "BERT é simplesmente uma pilha pré-treinada de Codificadores Transformer. Quantos codificadores? Temos duas versões – com 12 (BERT base) e 24 (BERT Large).\n",
        "\n",
        "### Isso é Útil na Prática?\n",
        "\n",
        "O artigo do BERT foi lançado juntamente com o [código-fonte](https://github.com/google-research/bert) e modelos pré-treinados.\n",
        "\n",
        "A melhor parte é que você pode fazer Transfer Learning (graças às ideias do Transformer da OpenAI) com o BERT para muitas tarefas de PLN – Classificação, Question Answering, Reconhecimento de Entidades, etc. Você pode treinar com pequenas quantidades de dados e alcançar um desempenho excelente!"
      ]
    },
    {
      "cell_type": "markdown",
      "metadata": {
        "id": "J5-xoiDDXS0R"
      },
      "source": [
        "## CUDA\n",
        "\n",
        "Vamos verificar a disponibilidade de executar com CUDA."
      ]
    },
    {
      "cell_type": "code",
      "execution_count": null,
      "metadata": {
        "colab": {
          "base_uri": "https://localhost:8080/"
        },
        "executionInfo": {
          "elapsed": 208,
          "status": "ok",
          "timestamp": 1743784724575,
          "user": {
            "displayName": "Charles Mendes",
            "userId": "12076106897405312609"
          },
          "user_tz": 180
        },
        "id": "zax-hsAmXVMD",
        "outputId": "fe437371-670c-48b2-f0e3-7863f8e9f583"
      },
      "outputs": [],
      "source": [
        "!nvidia-smi"
      ]
    },
    {
      "cell_type": "markdown",
      "metadata": {
        "id": "6YNYgk8EC9f_"
      },
      "source": [
        "## Setup\n",
        "\n",
        "Precisaremos [da biblioteca Transformers](https://huggingface.co/transformers/) da Hugging Face:"
      ]
    },
    {
      "cell_type": "code",
      "execution_count": null,
      "metadata": {
        "colab": {
          "base_uri": "https://localhost:8080/"
        },
        "executionInfo": {
          "elapsed": 4612,
          "status": "ok",
          "timestamp": 1743784762219,
          "user": {
            "displayName": "Charles Mendes",
            "userId": "12076106897405312609"
          },
          "user_tz": 180
        },
        "id": "U4Xpam-YYN0D",
        "outputId": "33e69e5d-fb79-4bc5-dddd-b9e20ddbda7d"
      },
      "outputs": [],
      "source": [
        "!pip install numpy\n",
        "!pip install pandas\n",
        "!pip install seaborn\n",
        "!pip install matplotlib \n",
        "!pip install transformers \n",
        "!pip install scikit-learn\n",
        "!pip install watermark\n",
        "!pip install accelerate\n",
        "!pip install bitsandbytes\n",
        "!pip install torch torchvision torchaudio --index-url https://download.pytorch.org/whl/cu121"
      ]
    },
    {
      "cell_type": "code",
      "execution_count": null,
      "metadata": {
        "colab": {
          "base_uri": "https://localhost:8080/"
        },
        "executionInfo": {
          "elapsed": 9248,
          "status": "ok",
          "timestamp": 1743784785599,
          "user": {
            "displayName": "Charles Mendes",
            "userId": "12076106897405312609"
          },
          "user_tz": 180
        },
        "id": "_W04uiKzDGnF",
        "outputId": "ea0c951e-3d72-4c91-bfe0-da682de2a823"
      },
      "outputs": [],
      "source": [
        "%reload_ext watermark\n",
        "%watermark -v -p numpy,pandas,torch,transformers"
      ]
    },
    {
      "cell_type": "markdown",
      "metadata": {
        "id": "hexarFBTDo4r"
      },
      "source": [
        "#### Configs"
      ]
    },
    {
      "cell_type": "code",
      "execution_count": null,
      "metadata": {
        "colab": {
          "base_uri": "https://localhost:8080/"
        },
        "executionInfo": {
          "elapsed": 30,
          "status": "ok",
          "timestamp": 1743785072777,
          "user": {
            "displayName": "Charles Mendes",
            "userId": "12076106897405312609"
          },
          "user_tz": 180
        },
        "id": "wVtdTVF4DazQ",
        "outputId": "18b8aaea-caad-4b56-91f2-6902cac0833f"
      },
      "outputs": [],
      "source": [
        "import torch\n",
        "import numpy as np\n",
        "import pandas as pd\n",
        "import seaborn as sns\n",
        "import torch.nn.functional as F\n",
        "import matplotlib.pyplot as plt\n",
        "\n",
        "from pylab import rcParams\n",
        "from torch import nn\n",
        "from torch.optim import AdamW\n",
        "from torch.utils.data import Dataset, DataLoader\n",
        "from textwrap import wrap\n",
        "from collections import defaultdict\n",
        "from transformers import BertModel, BertTokenizer, get_linear_schedule_with_warmup\n",
        "from sklearn.model_selection import train_test_split\n",
        "from sklearn.metrics import confusion_matrix, classification_report"
      ]
    },
    {
      "cell_type": "code",
      "execution_count": null,
      "metadata": {},
      "outputs": [],
      "source": [
        "%matplotlib inline\n",
        "%config InlineBackend.figure_format='retina'\n",
        "\n",
        "sns.set(style='whitegrid', palette='muted', font_scale=1.2)\n",
        "\n",
        "SCORE_COLORS_PALETTE = [\"#01BEFE\", \"#FFDD00\", \"#FF7D00\", \"#FF006D\", \"#ADFF02\"]\n",
        "SENTIMENT_COLORS_PALETTE = [\"#01BEFE\", \"#FFDD00\", \"#FF7D00\"]\n",
        "\n",
        "rcParams['figure.figsize'] = 12, 8\n",
        "\n",
        "RANDOM_SEED = 42\n",
        "np.random.seed(RANDOM_SEED)\n",
        "torch.manual_seed(RANDOM_SEED)\n",
        "\n",
        "device = torch.device(\"cuda:0\" if torch.cuda.is_available() else \"cpu\")\n",
        "device"
      ]
    },
    {
      "cell_type": "markdown",
      "metadata": {
        "id": "kQzbE6IKD1N8"
      },
      "source": [
        "#### Exports\n",
        "\n",
        "Carregamos o conjunto de dados de avaliações de aplicativos do Google Play, que reunimos na parte anterior:"
      ]
    },
    {
      "cell_type": "code",
      "execution_count": null,
      "metadata": {
        "colab": {
          "base_uri": "https://localhost:8080/",
          "height": 556
        },
        "executionInfo": {
          "elapsed": 203,
          "status": "ok",
          "timestamp": 1743785075393,
          "user": {
            "displayName": "Charles Mendes",
            "userId": "12076106897405312609"
          },
          "user_tz": 180
        },
        "id": "_PhgD2fiWmTo",
        "outputId": "db90c583-f57f-4c83-e65e-d10580e3b5ff"
      },
      "outputs": [],
      "source": [
        "df = pd.read_csv(\"../dataset/ifood Dataset.csv\")\n",
        "df.head()"
      ]
    },
    {
      "cell_type": "code",
      "execution_count": null,
      "metadata": {
        "colab": {
          "base_uri": "https://localhost:8080/"
        },
        "executionInfo": {
          "elapsed": 16,
          "status": "ok",
          "timestamp": 1743785077374,
          "user": {
            "displayName": "Charles Mendes",
            "userId": "12076106897405312609"
          },
          "user_tz": 180
        },
        "id": "9C1BU77AEFgI",
        "outputId": "3ba88b7d-8359-4ed8-dd36-8f03db1cb949"
      },
      "outputs": [],
      "source": [
        "df.shape"
      ]
    },
    {
      "cell_type": "markdown",
      "metadata": {
        "id": "WXZDP5WwEKO8"
      },
      "source": [
        "Temos cerca de 11 mil exemplos. Vamos verificar se há valores faltantes:\n"
      ]
    },
    {
      "cell_type": "code",
      "execution_count": null,
      "metadata": {
        "colab": {
          "base_uri": "https://localhost:8080/"
        },
        "executionInfo": {
          "elapsed": 13,
          "status": "ok",
          "timestamp": 1743785078704,
          "user": {
            "displayName": "Charles Mendes",
            "userId": "12076106897405312609"
          },
          "user_tz": 180
        },
        "id": "iXPjHlkIWZvA",
        "outputId": "76ee7fa9-234b-4832-acb3-7447f0aa390f"
      },
      "outputs": [],
      "source": [
        "df.info()"
      ]
    },
    {
      "cell_type": "markdown",
      "metadata": {
        "id": "E8xR01alEwOP"
      },
      "source": [
        "Ótimo, sem valores faltantes nos textos de pontuação e revisão! Temos desequilíbrio de classes?"
      ]
    },
    {
      "cell_type": "code",
      "execution_count": null,
      "metadata": {
        "colab": {
          "base_uri": "https://localhost:8080/",
          "height": 817
        },
        "executionInfo": {
          "elapsed": 385,
          "status": "ok",
          "timestamp": 1743785080876,
          "user": {
            "displayName": "Charles Mendes",
            "userId": "12076106897405312609"
          },
          "user_tz": 180
        },
        "id": "WUfzETcuExZq",
        "outputId": "deeedbc3-900a-4376-9012-4ee697ccd54e"
      },
      "outputs": [],
      "source": [
        "sns.countplot(x=df.score, palette=SCORE_COLORS_PALETTE)\n",
        "plt.xlabel('review score')"
      ]
    },
    {
      "cell_type": "markdown",
      "metadata": {
        "id": "jND2ICzmE41M"
      },
      "source": [
        "Isso é muito desequilibrado, mas está tudo bem. Vamos converter o conjunto de dados em sentimento negativo, neutro e positivo:"
      ]
    },
    {
      "cell_type": "code",
      "execution_count": null,
      "metadata": {
        "executionInfo": {
          "elapsed": 43,
          "status": "ok",
          "timestamp": 1743785113778,
          "user": {
            "displayName": "Charles Mendes",
            "userId": "12076106897405312609"
          },
          "user_tz": 180
        },
        "id": "jMXf-gkcEzer"
      },
      "outputs": [],
      "source": [
        "def to_sentiment(rating):\n",
        "  rating = int(rating)\n",
        "  if rating <= 2:\n",
        "    return 0\n",
        "  elif rating == 3:\n",
        "    return 1\n",
        "  else:\n",
        "    return 2\n",
        "\n",
        "df['sentiment'] = df.score.apply(to_sentiment)"
      ]
    },
    {
      "cell_type": "code",
      "execution_count": null,
      "metadata": {
        "executionInfo": {
          "elapsed": 12,
          "status": "ok",
          "timestamp": 1743785115247,
          "user": {
            "displayName": "Charles Mendes",
            "userId": "12076106897405312609"
          },
          "user_tz": 180
        },
        "id": "okU44oZQE7Tt"
      },
      "outputs": [],
      "source": [
        "class_names = ['negative', 'neutral', 'positive']"
      ]
    },
    {
      "cell_type": "code",
      "execution_count": null,
      "metadata": {
        "colab": {
          "base_uri": "https://localhost:8080/",
          "height": 852
        },
        "executionInfo": {
          "elapsed": 583,
          "status": "ok",
          "timestamp": 1743785200559,
          "user": {
            "displayName": "Charles Mendes",
            "userId": "12076106897405312609"
          },
          "user_tz": 180
        },
        "id": "qVxTGOeMFAhw",
        "outputId": "b66e41cb-707a-47ff-b685-5ae5909344af"
      },
      "outputs": [],
      "source": [
        "ax = sns.countplot(x=df.sentiment, palette=SENTIMENT_COLORS_PALETTE)\n",
        "plt.xlabel('review sentiment')\n",
        "ax.set_xticklabels(class_names)"
      ]
    },
    {
      "cell_type": "markdown",
      "metadata": {
        "id": "zdjLeuFgFF2s"
      },
      "source": [
        "O equilíbrio foi (em grande parte) restaurado."
      ]
    },
    {
      "cell_type": "markdown",
      "metadata": {
        "id": "2RIoVgVwFGxN"
      },
      "source": [
        "## Pré-processamento\n",
        "\n",
        "Você já deve saber que os modelos de Machine Learning não funcionam com texto bruto. Você precisa converter texto em números (de algum tipo). O BERT requer ainda mais atenção (boa, certo?). Aqui estão os requisitos:\n",
        "\n",
        "- Adicione tokens especiais para separar frases e faça a classificação\n",
        "- Passe sequências de comprimento constante (introduza preenchimento)\n",
        "- Crie uma matriz de 0s (token de preenchimento) e 1s (token real) chamada *máscara de atenção*\n",
        "\n",
        "A biblioteca Transformers fornece (você adivinhou) uma ampla variedade de modelos Transformers (incluindo BERT). Ela funciona com TensorFlow e PyTorch! Ela também inclui tokenizadores pré-construídos que fazem o trabalho pesado para nós!"
      ]
    },
    {
      "cell_type": "code",
      "execution_count": null,
      "metadata": {
        "executionInfo": {
          "elapsed": 3,
          "status": "ok",
          "timestamp": 1743785206836,
          "user": {
            "displayName": "Charles Mendes",
            "userId": "12076106897405312609"
          },
          "user_tz": 180
        },
        "id": "sVZo_lRVFDQh"
      },
      "outputs": [],
      "source": [
        "PRE_TRAINED_MODEL_NAME = 'neuralmind/bert-base-portuguese-cased'"
      ]
    },
    {
      "cell_type": "markdown",
      "metadata": {
        "id": "7Qp57OGfHy4M"
      },
      "source": [
        "https://huggingface.co/neuralmind/bert-base-portuguese-cased\n",
        "\n",
        "https://github.com/neuralmind-ai/portuguese-bert"
      ]
    },
    {
      "cell_type": "markdown",
      "metadata": {
        "id": "i7QkI4ftGGv-"
      },
      "source": [
        "> Você pode usar uma versão com e sem caixa de BERT e tokenizer. Eu experimentei ambos. A versão com caixa funciona melhor. Intuitivamente, isso faz sentido, já que \"RUIM\" pode transmitir mais sentimento do que \"ruim\"."
      ]
    },
    {
      "cell_type": "markdown",
      "metadata": {
        "id": "V-oaIAX6GQd-"
      },
      "source": [
        "Vamos carregar um [BertTokenizer](https://huggingface.co/transformers/model_doc/bert.html#berttokenizer) pré-treinado:"
      ]
    },
    {
      "cell_type": "code",
      "execution_count": null,
      "metadata": {
        "colab": {
          "base_uri": "https://localhost:8080/",
          "height": 301,
          "referenced_widgets": [
            "b9ab0d7cae9b4443b7796f98f5467269",
            "4715fcf8dbe746e29342ac8cf7edd3a6",
            "64e4646abaf0457aa77b0c80044f4873",
            "769eb36b3d9d42898c460b8349bd693e",
            "4fd9ae6ca93f434c835965cc45555d0b",
            "3fd0ca5572314b63a4b51f6dc4a629a1",
            "2b4eef2e7d5b4777bb409dc263bbc35f",
            "302051f125ae40179af39650575ebfa0",
            "66bcbc1bec89468dbb03c042881446c5",
            "3fdffea7be224a9da0605de4f3b1f660",
            "39f0b1db21aa461faf910b6bf9cfa39a",
            "aea98fd94f2948e094272c21b264ae74",
            "2d5ef0c442924c0b93ebea432a4e81dd",
            "5e7d52701cf1480393e505bc58073840",
            "26063ea556cc48619a1b42e6afe79414",
            "0133aa283863461194114a373365f4c3",
            "66a217276cb14747a22bf4472cefea52",
            "b8ec2043b2b14ae4b9b2576327ddf312",
            "0f4332372a534054872c68dc2e875f37",
            "a5e0f68440f0466aa36bf7e09441207e",
            "276e4d55f1ab4e21b0f69da1755e9d22",
            "64df4ddc221240b3a78e4a56c83e2389",
            "f4cc67426edf4e80b63970005c3f11ee",
            "7ec8bb7f458540b7b52543d3602fbf2b",
            "77662243bf0a40348864a46b7dce36b4",
            "084870e2de5d4adeb4802c5abfae3927",
            "90884042f04245cabe07a71314dc1ff5",
            "1260b250023047adbbe640d78f8d88dd",
            "c0875fea6f8c4c64b888760dd651dddc",
            "20b7f91742d843588329ffa6e929c63d",
            "cc86a6ab91584c5fae5b59e2d46261df",
            "4d30137eb2704915b51afb2bc88d2d7e",
            "68ec62f9606a45ffa4ac855190a801fe",
            "0c61954478834b8bacc4efc65edd9fc2",
            "c5ed1be4c88c4092afe40802b6525b9a",
            "5023c02f203e4f5f86ec729574934563",
            "4c03fd6199ad448d92375f88004e2659",
            "af5a91221328476588e2ecf00b514cf0",
            "0e501652606b4767a6b342a35c6a5286",
            "5ddfc9441a1546a98667669441da7bdd",
            "294a035798a3487ba3bea498dc8a02de",
            "2cf11f0bd83649abaa03ed76e4ead6f8",
            "3764d26ea89341a580977bd5ebc408f8",
            "cbfd07cae479493db405af0dbe97a24b",
            "4dc6b4cab3c34427971282974ea4d6a0",
            "6076190ecc294b6f8153e62173d43a93",
            "4081328271874c65820beca7dcf4466b",
            "6d76177870964822ad2b8c7ee20dcc96",
            "1344dd6af0354abca9bca46fce92ddee",
            "bbc13b211b744928bfd280b1093e194d",
            "2f7975c0060e4c578a77888e37adebf9",
            "e62d91f5f87940fba957d156c8aafcd1",
            "307ac3bc16d448f7a14af7e8bec402f5",
            "608a6bc3ce7947418d98fee70356a06f",
            "f150146f631e46bba9b6d9640d2f1e65"
          ]
        },
        "executionInfo": {
          "elapsed": 2250,
          "status": "ok",
          "timestamp": 1743785211250,
          "user": {
            "displayName": "Charles Mendes",
            "userId": "12076106897405312609"
          },
          "user_tz": 180
        },
        "id": "_14-cLRrGGP-",
        "outputId": "b146b2e4-b8c6-4c2d-98fc-1802d1288deb"
      },
      "outputs": [],
      "source": [
        "tokenizer = BertTokenizer.from_pretrained(PRE_TRAINED_MODEL_NAME)"
      ]
    },
    {
      "cell_type": "markdown",
      "metadata": {
        "id": "CmDWEEIFGU85"
      },
      "source": [
        "Usaremos este texto para entender o processo de tokenização:"
      ]
    },
    {
      "cell_type": "code",
      "execution_count": null,
      "metadata": {
        "executionInfo": {
          "elapsed": 13,
          "status": "ok",
          "timestamp": 1743785215425,
          "user": {
            "displayName": "Charles Mendes",
            "userId": "12076106897405312609"
          },
          "user_tz": 180
        },
        "id": "GHf6ubxeGVUo"
      },
      "outputs": [],
      "source": [
        "sample_txt = 'Qual foi a última vez que saí de casa? Estou preso em casa por 2 semanas.'"
      ]
    },
    {
      "cell_type": "markdown",
      "metadata": {
        "id": "ANQLQ87YGuhI"
      },
      "source": [
        "Algumas operações básicas podem converter o texto em tokens e tokens em inteiros únicos (ids):"
      ]
    },
    {
      "cell_type": "code",
      "execution_count": null,
      "metadata": {
        "colab": {
          "base_uri": "https://localhost:8080/"
        },
        "executionInfo": {
          "elapsed": 22,
          "status": "ok",
          "timestamp": 1743785216764,
          "user": {
            "displayName": "Charles Mendes",
            "userId": "12076106897405312609"
          },
          "user_tz": 180
        },
        "id": "Q0ZYj5BqGSRY",
        "outputId": "a5fff3bd-18fa-4876-e2f0-f366d58946ac"
      },
      "outputs": [],
      "source": [
        "tokens = tokenizer.tokenize(sample_txt)\n",
        "token_ids = tokenizer.convert_tokens_to_ids(tokens)\n",
        "\n",
        "print(f' Sentence: {sample_txt}')\n",
        "print(f'   Tokens: {tokens}')\n",
        "print(f'Token IDs: {token_ids}')"
      ]
    },
    {
      "cell_type": "markdown",
      "metadata": {
        "id": "v_D7UIRrKH9g"
      },
      "source": [
        "### Special Tokens\n",
        "\n",
        "`[SEP]` - marcador para o final de uma frase"
      ]
    },
    {
      "cell_type": "code",
      "execution_count": null,
      "metadata": {
        "colab": {
          "base_uri": "https://localhost:8080/"
        },
        "executionInfo": {
          "elapsed": 7,
          "status": "ok",
          "timestamp": 1743785219882,
          "user": {
            "displayName": "Charles Mendes",
            "userId": "12076106897405312609"
          },
          "user_tz": 180
        },
        "id": "TuUvyBXFKI_0",
        "outputId": "d2e74e0b-da04-4bd7-9f60-d139a7679ae0"
      },
      "outputs": [],
      "source": [
        "tokenizer.sep_token, tokenizer.sep_token_id"
      ]
    },
    {
      "cell_type": "markdown",
      "metadata": {
        "id": "bmidBkN1KOyu"
      },
      "source": [
        "`[CLS]` - devemos adicionar este token ao início de cada frase, para que BERT saiba que estamos fazendo uma classificação"
      ]
    },
    {
      "cell_type": "code",
      "execution_count": null,
      "metadata": {
        "colab": {
          "base_uri": "https://localhost:8080/"
        },
        "executionInfo": {
          "elapsed": 43,
          "status": "ok",
          "timestamp": 1743785221238,
          "user": {
            "displayName": "Charles Mendes",
            "userId": "12076106897405312609"
          },
          "user_tz": 180
        },
        "id": "rJLW4_zEKKLU",
        "outputId": "1c499145-5888-477d-9108-3ed736f9b723"
      },
      "outputs": [],
      "source": [
        "tokenizer.cls_token, tokenizer.cls_token_id"
      ]
    },
    {
      "cell_type": "markdown",
      "metadata": {
        "id": "rVutL1_1KS16"
      },
      "source": [
        "Há também um token especial para preenchimento:"
      ]
    },
    {
      "cell_type": "code",
      "execution_count": null,
      "metadata": {
        "colab": {
          "base_uri": "https://localhost:8080/"
        },
        "executionInfo": {
          "elapsed": 17,
          "status": "ok",
          "timestamp": 1743785222961,
          "user": {
            "displayName": "Charles Mendes",
            "userId": "12076106897405312609"
          },
          "user_tz": 180
        },
        "id": "E6hw82DTKTSI",
        "outputId": "536efafa-26ef-4d9e-8405-a97d0db170e7"
      },
      "outputs": [],
      "source": [
        "tokenizer.pad_token, tokenizer.pad_token_id"
      ]
    },
    {
      "cell_type": "markdown",
      "metadata": {
        "id": "B6nVbxU-KWOZ"
      },
      "source": [
        "BERT entende tokens que estavam no conjunto de treinamento. Todo o resto pode ser codificado usando o token `[UNK]` (desconhecido):"
      ]
    },
    {
      "cell_type": "code",
      "execution_count": null,
      "metadata": {
        "colab": {
          "base_uri": "https://localhost:8080/"
        },
        "executionInfo": {
          "elapsed": 4,
          "status": "ok",
          "timestamp": 1743785224608,
          "user": {
            "displayName": "Charles Mendes",
            "userId": "12076106897405312609"
          },
          "user_tz": 180
        },
        "id": "fcoGQ_i4KY5_",
        "outputId": "15a407e1-c8c5-4a0b-c243-436008f4dbce"
      },
      "outputs": [],
      "source": [
        "tokenizer.unk_token, tokenizer.unk_token_id"
      ]
    },
    {
      "cell_type": "markdown",
      "metadata": {
        "id": "39XPl_0-Kdck"
      },
      "source": [
        "Todo esse trabalho pode ser feito usando o método [`encode_plus()`](https://huggingface.co/transformers/main_classes/tokenizer.html#transformers.PreTrainedTokenizer.encode_plus):"
      ]
    },
    {
      "cell_type": "code",
      "execution_count": null,
      "metadata": {
        "colab": {
          "base_uri": "https://localhost:8080/"
        },
        "executionInfo": {
          "elapsed": 5,
          "status": "ok",
          "timestamp": 1743785226042,
          "user": {
            "displayName": "Charles Mendes",
            "userId": "12076106897405312609"
          },
          "user_tz": 180
        },
        "id": "WuqMkd4UKQtv",
        "outputId": "d76d6734-54b6-4bb7-f3a3-90a974da3e9b"
      },
      "outputs": [],
      "source": [
        "encoding = tokenizer.encode_plus(\n",
        "  sample_txt,\n",
        "  max_length=32,\n",
        "  add_special_tokens=True, # Add '[CLS]' and '[SEP]'\n",
        "  return_token_type_ids=False,\n",
        "  #padding='longest',\n",
        "  pad_to_max_length=True,\n",
        "  return_attention_mask=True,\n",
        "  return_tensors='pt',  # Return PyTorch tensors\n",
        ")\n",
        "\n",
        "encoding.keys()"
      ]
    },
    {
      "cell_type": "markdown",
      "metadata": {
        "id": "V64k2WIHKj_W"
      },
      "source": [
        "Os IDs de token agora são armazenados em um Tensor e preenchidos com um comprimento de 32:"
      ]
    },
    {
      "cell_type": "code",
      "execution_count": null,
      "metadata": {
        "colab": {
          "base_uri": "https://localhost:8080/"
        },
        "executionInfo": {
          "elapsed": 18,
          "status": "ok",
          "timestamp": 1743785229498,
          "user": {
            "displayName": "Charles Mendes",
            "userId": "12076106897405312609"
          },
          "user_tz": 180
        },
        "id": "llb6Q4JoKkVs",
        "outputId": "cc83767e-0c26-4b8a-ecbf-2e2aab6c2645"
      },
      "outputs": [],
      "source": [
        "print(len(encoding['input_ids'][0]))\n",
        "encoding['input_ids'][0]"
      ]
    },
    {
      "cell_type": "markdown",
      "metadata": {
        "id": "GJ3591WBKoFh"
      },
      "source": [
        "A máscara de atenção tem o mesmo comprimento:"
      ]
    },
    {
      "cell_type": "code",
      "execution_count": null,
      "metadata": {
        "colab": {
          "base_uri": "https://localhost:8080/"
        },
        "executionInfo": {
          "elapsed": 16,
          "status": "ok",
          "timestamp": 1743785231218,
          "user": {
            "displayName": "Charles Mendes",
            "userId": "12076106897405312609"
          },
          "user_tz": 180
        },
        "id": "-YFYP7_zKoW3",
        "outputId": "cc4397c8-536d-4840-f200-8f70e67f9f00"
      },
      "outputs": [],
      "source": [
        "print(len(encoding['attention_mask'][0]))\n",
        "encoding['attention_mask']"
      ]
    },
    {
      "cell_type": "markdown",
      "metadata": {
        "id": "KUJXjJVhKrmF"
      },
      "source": [
        "Podemos inverter a tokenização para dar uma olhada nos tokens especiais:"
      ]
    },
    {
      "cell_type": "code",
      "execution_count": null,
      "metadata": {
        "colab": {
          "base_uri": "https://localhost:8080/"
        },
        "executionInfo": {
          "elapsed": 46,
          "status": "ok",
          "timestamp": 1743785232874,
          "user": {
            "displayName": "Charles Mendes",
            "userId": "12076106897405312609"
          },
          "user_tz": 180
        },
        "id": "UPlKoS5dKsFG",
        "outputId": "fb060178-1c34-4af8-e960-1b1392424c0a"
      },
      "outputs": [],
      "source": [
        "tokenizer.convert_ids_to_tokens(encoding['input_ids'][0])"
      ]
    },
    {
      "cell_type": "markdown",
      "metadata": {
        "id": "-w0xt3vKKwMq"
      },
      "source": [
        "### Escolhendo o comprimento da sequência\n",
        "\n",
        "BERT trabalha com sequências de comprimento fixo. Usaremos uma estratégia simples para escolher o comprimento máximo. Vamos armazenar o comprimento do token de cada revisão:"
      ]
    },
    {
      "cell_type": "code",
      "execution_count": null,
      "metadata": {
        "executionInfo": {
          "elapsed": 6345,
          "status": "ok",
          "timestamp": 1743785241324,
          "user": {
            "displayName": "Charles Mendes",
            "userId": "12076106897405312609"
          },
          "user_tz": 180
        },
        "id": "36vHlDrzKxj3"
      },
      "outputs": [],
      "source": [
        "token_lens = []\n",
        "\n",
        "for txt in df.content:\n",
        "  tokens = tokenizer.encode(txt, max_length=512)\n",
        "  token_lens.append(len(tokens))"
      ]
    },
    {
      "cell_type": "markdown",
      "metadata": {
        "id": "YV-5tsnXLntz"
      },
      "source": [
        "e plotar a distribuição:"
      ]
    },
    {
      "cell_type": "code",
      "execution_count": null,
      "metadata": {
        "colab": {
          "base_uri": "https://localhost:8080/",
          "height": 901
        },
        "executionInfo": {
          "elapsed": 669,
          "status": "ok",
          "timestamp": 1743785244119,
          "user": {
            "displayName": "Charles Mendes",
            "userId": "12076106897405312609"
          },
          "user_tz": 180
        },
        "id": "K7aQTcu8Lp26",
        "outputId": "1281b7d7-18ff-4474-8bd6-417f8013fdce"
      },
      "outputs": [],
      "source": [
        "sns.distplot(token_lens)\n",
        "plt.xlim([0, 256]);\n",
        "plt.xlabel('Token count');"
      ]
    },
    {
      "cell_type": "markdown",
      "metadata": {
        "id": "djv5kONnLxb-"
      },
      "source": [
        "A maioria das análises parece conter menos de 128 tokens, mas vamos ser cautelosos e escolher um tamanho máximo de 160."
      ]
    },
    {
      "cell_type": "code",
      "execution_count": null,
      "metadata": {
        "executionInfo": {
          "elapsed": 4,
          "status": "ok",
          "timestamp": 1743785248247,
          "user": {
            "displayName": "Charles Mendes",
            "userId": "12076106897405312609"
          },
          "user_tz": 180
        },
        "id": "UQalJqpBLrLB"
      },
      "outputs": [],
      "source": [
        "MAX_LEN = 160"
      ]
    },
    {
      "cell_type": "markdown",
      "metadata": {
        "id": "dKDyNuXWL5KX"
      },
      "source": [
        "Temos todos os blocos de construção necessários para criar um conjunto de dados PyTorch. Vamos lá:"
      ]
    },
    {
      "cell_type": "code",
      "execution_count": null,
      "metadata": {
        "executionInfo": {
          "elapsed": 14,
          "status": "ok",
          "timestamp": 1743785249319,
          "user": {
            "displayName": "Charles Mendes",
            "userId": "12076106897405312609"
          },
          "user_tz": 180
        },
        "id": "DxQSt1sZL5kp"
      },
      "outputs": [],
      "source": [
        "class GPReviewDataset(Dataset):\n",
        "\n",
        "  def __init__(self, reviews, targets, tokenizer, max_len):\n",
        "    self.reviews = reviews\n",
        "    self.targets = targets\n",
        "    self.tokenizer = tokenizer\n",
        "    self.max_len = max_len\n",
        "\n",
        "  def __len__(self):\n",
        "    return len(self.reviews)\n",
        "\n",
        "  def __getitem__(self, item):\n",
        "    review = str(self.reviews[item])\n",
        "    target = self.targets[item]\n",
        "\n",
        "    encoding = self.tokenizer.encode_plus(\n",
        "      review,\n",
        "      add_special_tokens=True,\n",
        "      max_length=self.max_len,\n",
        "      return_token_type_ids=False,\n",
        "      #padding='longest',\n",
        "      pad_to_max_length=True,\n",
        "      return_attention_mask=True,\n",
        "      return_tensors='pt',\n",
        "    )\n",
        "\n",
        "    return {\n",
        "      'review_text': review,\n",
        "      'input_ids': encoding['input_ids'].flatten(),\n",
        "      'attention_mask': encoding['attention_mask'].flatten(),\n",
        "      'targets': torch.tensor(target, dtype=torch.long)\n",
        "    }"
      ]
    },
    {
      "cell_type": "markdown",
      "metadata": {
        "id": "2_w5mFC9L-i6"
      },
      "source": [
        "O tokenizer está fazendo a maior parte do trabalho pesado para nós. Também retornamos os textos de revisão, então será mais fácil avaliar as previsões do nosso modelo. Vamos dividir os dados:"
      ]
    },
    {
      "cell_type": "code",
      "execution_count": null,
      "metadata": {
        "executionInfo": {
          "elapsed": 21,
          "status": "ok",
          "timestamp": 1743785252943,
          "user": {
            "displayName": "Charles Mendes",
            "userId": "12076106897405312609"
          },
          "user_tz": 180
        },
        "id": "aLqEExhdL-_p"
      },
      "outputs": [],
      "source": [
        "df_train, df_test = train_test_split(df, test_size=0.1, random_state=RANDOM_SEED)\n",
        "df_val, df_test = train_test_split(df_test, test_size=0.5, random_state=RANDOM_SEED)"
      ]
    },
    {
      "cell_type": "code",
      "execution_count": null,
      "metadata": {
        "colab": {
          "base_uri": "https://localhost:8080/"
        },
        "executionInfo": {
          "elapsed": 23,
          "status": "ok",
          "timestamp": 1743785254175,
          "user": {
            "displayName": "Charles Mendes",
            "userId": "12076106897405312609"
          },
          "user_tz": 180
        },
        "id": "tGSB9J8tMBIC",
        "outputId": "84271d07-2500-468d-d150-2d0b4feb745e"
      },
      "outputs": [],
      "source": [
        "df_train.shape, df_val.shape, df_test.shape"
      ]
    },
    {
      "cell_type": "markdown",
      "metadata": {
        "id": "Tid8js2AMEzJ"
      },
      "source": [
        "Também precisamos criar alguns carregadores de dados. Aqui está uma função auxiliar para fazer isso:\n",
        "\n",
        "* para Windows \"num_workers=0\""
      ]
    },
    {
      "cell_type": "code",
      "execution_count": null,
      "metadata": {
        "executionInfo": {
          "elapsed": 4,
          "status": "ok",
          "timestamp": 1743785255939,
          "user": {
            "displayName": "Charles Mendes",
            "userId": "12076106897405312609"
          },
          "user_tz": 180
        },
        "id": "ys08dkFnMFOx"
      },
      "outputs": [],
      "source": [
        "def create_data_loader(df, tokenizer, max_len, batch_size):\n",
        "  ds = GPReviewDataset(\n",
        "    reviews=df.content.to_numpy(),\n",
        "    targets=df.sentiment.to_numpy(),\n",
        "    tokenizer=tokenizer,\n",
        "    max_len=max_len\n",
        "  )\n",
        "\n",
        "  return DataLoader(\n",
        "    ds,\n",
        "    batch_size=batch_size,\n",
        "    num_workers=0\n",
        "  )"
      ]
    },
    {
      "cell_type": "code",
      "execution_count": null,
      "metadata": {
        "colab": {
          "base_uri": "https://localhost:8080/"
        },
        "executionInfo": {
          "elapsed": 20,
          "status": "ok",
          "timestamp": 1743785257233,
          "user": {
            "displayName": "Charles Mendes",
            "userId": "12076106897405312609"
          },
          "user_tz": 180
        },
        "id": "9ht8GyZnMGqi",
        "outputId": "8dff70df-ecdd-4522-a529-e87168f5970c"
      },
      "outputs": [],
      "source": [
        "BATCH_SIZE = 16\n",
        "\n",
        "train_data_loader = create_data_loader(df_train, tokenizer, MAX_LEN, BATCH_SIZE)\n",
        "val_data_loader = create_data_loader(df_val, tokenizer, MAX_LEN, BATCH_SIZE)\n",
        "test_data_loader = create_data_loader(df_test, tokenizer, MAX_LEN, BATCH_SIZE)"
      ]
    },
    {
      "cell_type": "markdown",
      "metadata": {
        "id": "ZTB7u2Y5MOAY"
      },
      "source": [
        "Vamos dar uma olhada em um lote de exemplo do nosso carregador de dados de treinamento:"
      ]
    },
    {
      "cell_type": "code",
      "execution_count": null,
      "metadata": {
        "colab": {
          "base_uri": "https://localhost:8080/"
        },
        "executionInfo": {
          "elapsed": 7,
          "status": "ok",
          "timestamp": 1743785259949,
          "user": {
            "displayName": "Charles Mendes",
            "userId": "12076106897405312609"
          },
          "user_tz": 180
        },
        "id": "6KxMc6MleUDu",
        "outputId": "7ab2a813-036b-46fa-be1b-58f3fde09c1a"
      },
      "outputs": [],
      "source": [
        "len(train_data_loader)"
      ]
    },
    {
      "cell_type": "code",
      "execution_count": null,
      "metadata": {
        "colab": {
          "base_uri": "https://localhost:8080/"
        },
        "executionInfo": {
          "elapsed": 292,
          "status": "ok",
          "timestamp": 1743785261822,
          "user": {
            "displayName": "Charles Mendes",
            "userId": "12076106897405312609"
          },
          "user_tz": 180
        },
        "id": "fK1LVloAMJr1",
        "outputId": "683f16ac-d704-47d3-d5f2-d02428fee57d"
      },
      "outputs": [],
      "source": [
        "data = next(iter(train_data_loader))\n",
        "data.keys()"
      ]
    },
    {
      "cell_type": "code",
      "execution_count": null,
      "metadata": {
        "colab": {
          "base_uri": "https://localhost:8080/"
        },
        "executionInfo": {
          "elapsed": 7,
          "status": "ok",
          "timestamp": 1743785264358,
          "user": {
            "displayName": "Charles Mendes",
            "userId": "12076106897405312609"
          },
          "user_tz": 180
        },
        "id": "tkeqE-FWMPiZ",
        "outputId": "54979eea-6261-4ab2-edaa-cfb0a958ead0"
      },
      "outputs": [],
      "source": [
        "print(data['input_ids'].shape)\n",
        "print(data['attention_mask'].shape)\n",
        "print(data['targets'].shape)"
      ]
    },
    {
      "cell_type": "markdown",
      "metadata": {
        "id": "4OhEv9k9Mca6"
      },
      "source": [
        "## Classificação de sentimentos com BERT e Hugging Face"
      ]
    },
    {
      "cell_type": "markdown",
      "metadata": {
        "id": "J8yGbr4vMhYv"
      },
      "source": [
        "Há muitos auxiliares que facilitam o uso do BERT com a biblioteca Transformers. Dependendo da tarefa, você pode querer usar [BertForSequenceClassification](https://huggingface.co/transformers/model_doc/bert.html#bertforsequenceclassification), [BertForQuestionAnswering](https://huggingface.co/transformers/model_doc/bert.html#bertforquestionanswering) ou outra coisa.\n",
        "\n",
        "Mas quem se importa, certo? Somos *hardcore*! Usaremos o [BertModel](https://huggingface.co/transformers/model_doc/bert.html#bertmodel) básico e construiremos nosso classificador de sentimentos em cima dele. Vamos carregar o modelo:"
      ]
    },
    {
      "cell_type": "code",
      "execution_count": null,
      "metadata": {
        "colab": {
          "base_uri": "https://localhost:8080/",
          "height": 49,
          "referenced_widgets": [
            "62af70c906d74770872149e036bbe852",
            "50c4cbc85cb045ea8c1bf59f61b77b75",
            "72b417e19ad94574a824e36d75954c13",
            "4fa68e060aa145b0be4e10c3b5eb6455",
            "49a3acff12924e41bf05c9d8125cc40a",
            "f22ec9a6cc8343c9be235e2c21c6d52d",
            "30449da953114efd996a458cdcff389c",
            "3b9910eafc774213ac1f898d2e300ba9",
            "0eb3975f47c94620842a77fd9856d498",
            "946dc96c6be04b64a76b5b425e86ac7d",
            "2817e4f3a7ae4614aff6dfdde17013f3"
          ]
        },
        "executionInfo": {
          "elapsed": 7802,
          "status": "ok",
          "timestamp": 1743785273921,
          "user": {
            "displayName": "Charles Mendes",
            "userId": "12076106897405312609"
          },
          "user_tz": 180
        },
        "id": "B_Zv3uXgMh9l",
        "outputId": "132b5b34-18c7-46f5-e9a1-6f6784ed5498"
      },
      "outputs": [],
      "source": [
        "bert_model = BertModel.from_pretrained(PRE_TRAINED_MODEL_NAME)"
      ]
    },
    {
      "cell_type": "markdown",
      "metadata": {
        "id": "-wc2P7aiMpGC"
      },
      "source": [
        "E tente usá-lo na codificação do nosso texto de exemplo:"
      ]
    },
    {
      "cell_type": "code",
      "execution_count": null,
      "metadata": {
        "executionInfo": {
          "elapsed": 478,
          "status": "ok",
          "timestamp": 1743785275472,
          "user": {
            "displayName": "Charles Mendes",
            "userId": "12076106897405312609"
          },
          "user_tz": 180
        },
        "id": "tsPxPiG5Mptq"
      },
      "outputs": [],
      "source": [
        "last_hidden_state, pooled_output = bert_model(\n",
        "  input_ids=encoding['input_ids'],\n",
        "  attention_mask=encoding['attention_mask']\n",
        ")"
      ]
    },
    {
      "cell_type": "markdown",
      "metadata": {
        "id": "Z9TpeUr8Ms7b"
      },
      "source": [
        "O `last_hidden_state` é uma sequência de estados ocultos da última camada do modelo. A obtenção do `pooled_output` é feita aplicando o [BertPooler](https://github.com/huggingface/transformers/blob/edf0582c0be87b60f94f41c659ea779876efc7be/src/transformers/modeling_bert.py#L426) em `last_hidden_state`."
      ]
    },
    {
      "cell_type": "markdown",
      "metadata": {
        "id": "I2tokVklN3OS"
      },
      "source": [
        "Você pode pensar no `pooled_output` como um resumo do conteúdo, de acordo com BERT. No entanto, você pode tentar fazer melhor. Vamos dar uma olhada no formato da saída."
      ]
    },
    {
      "cell_type": "code",
      "execution_count": null,
      "metadata": {
        "colab": {
          "base_uri": "https://localhost:8080/"
        },
        "executionInfo": {
          "elapsed": 6,
          "status": "ok",
          "timestamp": 1743785277527,
          "user": {
            "displayName": "Charles Mendes",
            "userId": "12076106897405312609"
          },
          "user_tz": 180
        },
        "id": "Su91OfW7MtaK",
        "outputId": "a9b08390-be7b-495b-9a65-d999abcad765"
      },
      "outputs": [],
      "source": [
        "bert_model.config.hidden_size"
      ]
    },
    {
      "cell_type": "markdown",
      "metadata": {
        "id": "sadx51ayOJSx"
      },
      "source": [
        "Podemos usar todo esse conhecimento para criar um classificador que usa o modelo BERT:"
      ]
    },
    {
      "cell_type": "code",
      "execution_count": null,
      "metadata": {
        "executionInfo": {
          "elapsed": 1,
          "status": "ok",
          "timestamp": 1743785279546,
          "user": {
            "displayName": "Charles Mendes",
            "userId": "12076106897405312609"
          },
          "user_tz": 180
        },
        "id": "lM-0eiqhNUbN"
      },
      "outputs": [],
      "source": [
        "class SentimentClassifier(nn.Module):\n",
        "\n",
        "  def __init__(self, n_classes):\n",
        "    super(SentimentClassifier, self).__init__()\n",
        "    self.bert = BertModel.from_pretrained(PRE_TRAINED_MODEL_NAME, return_dict=False)\n",
        "    self.drop = nn.Dropout(p=0.3)\n",
        "    self.out = nn.Linear(self.bert.config.hidden_size, n_classes)\n",
        "\n",
        "  def forward(self, input_ids, attention_mask):\n",
        "    _, pooled_output = self.bert(\n",
        "      input_ids=input_ids,\n",
        "      attention_mask=attention_mask\n",
        "    )\n",
        "    output = self.drop(pooled_output)\n",
        "    return self.out(output)"
      ]
    },
    {
      "cell_type": "markdown",
      "metadata": {
        "id": "oWHPz4z6OMU9"
      },
      "source": [
        "Nosso classificador delega a maior parte do trabalho pesado para o BertModel. Usamos uma camada de dropout para alguma regularização e uma camada totalmente conectada para nossa saída. Observe que estamos retornando a saída bruta da última camada, pois isso é necessário para que a função de perda de entropia cruzada no PyTorch funcione.\n",
        "\n",
        "Isso deve funcionar como qualquer outro modelo PyTorch. Vamos criar uma instância e movê-la para a GPU:"
      ]
    },
    {
      "cell_type": "code",
      "execution_count": null,
      "metadata": {
        "executionInfo": {
          "elapsed": 1160,
          "status": "ok",
          "timestamp": 1743785283279,
          "user": {
            "displayName": "Charles Mendes",
            "userId": "12076106897405312609"
          },
          "user_tz": 180
        },
        "id": "9Z4pMOzZOMuv"
      },
      "outputs": [],
      "source": [
        "model = SentimentClassifier(len(class_names))\n",
        "model = model.to(device)"
      ]
    },
    {
      "cell_type": "markdown",
      "metadata": {
        "id": "OqsR6aKCOT5o"
      },
      "source": [
        "Moveremos o lote de exemplo dos nossos dados de treinamento para a GPU:"
      ]
    },
    {
      "cell_type": "code",
      "execution_count": null,
      "metadata": {
        "colab": {
          "base_uri": "https://localhost:8080/"
        },
        "executionInfo": {
          "elapsed": 11,
          "status": "ok",
          "timestamp": 1743785285538,
          "user": {
            "displayName": "Charles Mendes",
            "userId": "12076106897405312609"
          },
          "user_tz": 180
        },
        "id": "OdKyQQKhOUZ7",
        "outputId": "faa3d212-9a24-4f90-e715-114a6a648e38"
      },
      "outputs": [],
      "source": [
        "input_ids = data['input_ids'].to(device)\n",
        "attention_mask = data['attention_mask'].to(device)\n",
        "\n",
        "print(input_ids.shape) # batch size x seq length\n",
        "print(attention_mask.shape) # batch size x seq length"
      ]
    },
    {
      "cell_type": "markdown",
      "metadata": {
        "id": "Ux4i9Nr1OYWT"
      },
      "source": [
        "Para obter as probabilidades previstas do nosso modelo treinado, aplicaremos a função softmax às saídas:"
      ]
    },
    {
      "cell_type": "code",
      "execution_count": null,
      "metadata": {
        "colab": {
          "base_uri": "https://localhost:8080/"
        },
        "executionInfo": {
          "elapsed": 13,
          "status": "ok",
          "timestamp": 1743785287745,
          "user": {
            "displayName": "Charles Mendes",
            "userId": "12076106897405312609"
          },
          "user_tz": 180
        },
        "id": "zH1ZLPgSOnwG",
        "outputId": "4f30e682-9da4-4227-c54f-8e16cd9f5724"
      },
      "outputs": [],
      "source": [
        "type(attention_mask)"
      ]
    },
    {
      "cell_type": "code",
      "execution_count": null,
      "metadata": {
        "colab": {
          "base_uri": "https://localhost:8080/"
        },
        "executionInfo": {
          "elapsed": 13,
          "status": "ok",
          "timestamp": 1743785289051,
          "user": {
            "displayName": "Charles Mendes",
            "userId": "12076106897405312609"
          },
          "user_tz": 180
        },
        "id": "ZHfW8dfZOpxH",
        "outputId": "dba80cec-0b2b-41bd-ca24-d0e1282a02ce"
      },
      "outputs": [],
      "source": [
        "type(input_ids)"
      ]
    },
    {
      "cell_type": "code",
      "execution_count": null,
      "metadata": {
        "colab": {
          "base_uri": "https://localhost:8080/"
        },
        "executionInfo": {
          "elapsed": 1154,
          "status": "ok",
          "timestamp": 1743785291325,
          "user": {
            "displayName": "Charles Mendes",
            "userId": "12076106897405312609"
          },
          "user_tz": 180
        },
        "id": "3Qo5iJVnOWMj",
        "outputId": "bd52613c-1181-440b-8329-893d13d46fb8"
      },
      "outputs": [],
      "source": [
        "F.softmax(model(input_ids, attention_mask), dim=1)"
      ]
    },
    {
      "cell_type": "markdown",
      "metadata": {
        "id": "7Q8gFB-7dsYU"
      },
      "source": [
        "### Treinamento\n",
        "\n",
        "Para reproduzir o procedimento de treinamento do artigo BERT, usaremos o otimizador [AdamW](https://huggingface.co/transformers/main_classes/optimizer_schedules.html#adamw) fornecido pela Hugging Face. Ele corrige a queda de peso, então é semelhante ao artigo original. Também usaremos um planejador linear sem etapas de aquecimento:"
      ]
    },
    {
      "cell_type": "code",
      "execution_count": null,
      "metadata": {
        "executionInfo": {
          "elapsed": 13,
          "status": "ok",
          "timestamp": 1743785301844,
          "user": {
            "displayName": "Charles Mendes",
            "userId": "12076106897405312609"
          },
          "user_tz": 180
        },
        "id": "7X1BJqEXEjB-"
      },
      "outputs": [],
      "source": [
        "EPOCHS = 4\n",
        "\n",
        "optimizer = AdamW(model.parameters(), lr=2e-5)\n",
        "total_steps = len(train_data_loader) * EPOCHS\n",
        "\n",
        "scheduler = get_linear_schedule_with_warmup(\n",
        "  optimizer,\n",
        "  num_warmup_steps=0,\n",
        "  num_training_steps=total_steps\n",
        ")\n",
        "\n",
        "loss_fn = nn.CrossEntropyLoss().to(device)"
      ]
    },
    {
      "cell_type": "markdown",
      "metadata": {
        "id": "GJu9X-TEd2-t"
      },
      "source": [
        "Como chegamos a todos os hiperparâmetros? Os autores do BERT têm algumas recomendações para ajuste fino:\n",
        "\n",
        "- Tamanho do lote: 16, 32\n",
        "- Taxa de aprendizado (Adam): 5e-5, 3e-5, 2e-5\n",
        "- Número de épocas: 2, 3, 4\n",
        "\n",
        "Vamos ignorar a recomendação do número de épocas, mas ficar com o resto. Observe que aumentar o tamanho do lote reduz significativamente o tempo de treinamento, mas oferece menor precisão.\n",
        "\n",
        "Vamos continuar escrevendo uma função auxiliar para treinar nosso modelo para uma época:"
      ]
    },
    {
      "cell_type": "code",
      "execution_count": null,
      "metadata": {
        "executionInfo": {
          "elapsed": 16,
          "status": "ok",
          "timestamp": 1743785305643,
          "user": {
            "displayName": "Charles Mendes",
            "userId": "12076106897405312609"
          },
          "user_tz": 180
        },
        "id": "tvGtIud7d1O0"
      },
      "outputs": [],
      "source": [
        "def train_epoch(\n",
        "  model,\n",
        "  data_loader,\n",
        "  loss_fn,\n",
        "  optimizer,\n",
        "  device,\n",
        "  scheduler,\n",
        "  n_examples\n",
        "):\n",
        "  model = model.train()\n",
        "\n",
        "  losses = []\n",
        "  correct_predictions = 0\n",
        "\n",
        "  for d in data_loader:\n",
        "    input_ids = d[\"input_ids\"].to(device)\n",
        "    attention_mask = d[\"attention_mask\"].to(device)\n",
        "    targets = d[\"targets\"].to(device)\n",
        "\n",
        "    outputs = model(\n",
        "      input_ids=input_ids,\n",
        "      attention_mask=attention_mask\n",
        "    )\n",
        "\n",
        "    _, preds = torch.max(outputs, dim=1)\n",
        "    loss = loss_fn(outputs, targets)\n",
        "\n",
        "    correct_predictions += torch.sum(preds == targets)\n",
        "    losses.append(loss.item())\n",
        "\n",
        "    loss.backward()\n",
        "    nn.utils.clip_grad_norm_(model.parameters(), max_norm=1.0)\n",
        "    optimizer.step()\n",
        "    scheduler.step()\n",
        "    optimizer.zero_grad()\n",
        "\n",
        "  return correct_predictions.double() / n_examples, np.mean(losses)"
      ]
    },
    {
      "cell_type": "markdown",
      "metadata": {
        "id": "JJQJjc1Hd6Zt"
      },
      "source": [
        "Treinar o modelo deve parecer familiar, exceto por duas coisas. O planejador é chamado toda vez que um lote é alimentado ao modelo. Estamos evitando gradientes explosivos recortando os gradientes do modelo usando [clip_grad_norm_](https://pytorch.org/docs/stable/nn.html#clip-grad-norm).\n",
        "\n",
        "Vamos escrever outro que nos ajude a avaliar o modelo em um determinado carregador de dados:"
      ]
    },
    {
      "cell_type": "code",
      "execution_count": null,
      "metadata": {
        "executionInfo": {
          "elapsed": 4,
          "status": "ok",
          "timestamp": 1743785308806,
          "user": {
            "displayName": "Charles Mendes",
            "userId": "12076106897405312609"
          },
          "user_tz": 180
        },
        "id": "Xkg8XyzZd5to"
      },
      "outputs": [],
      "source": [
        "def eval_model(model, data_loader, loss_fn, device, n_examples):\n",
        "  model = model.eval()\n",
        "\n",
        "  losses = []\n",
        "  correct_predictions = 0\n",
        "\n",
        "  with torch.no_grad():\n",
        "    for d in data_loader:\n",
        "      input_ids = d[\"input_ids\"].to(device)\n",
        "      attention_mask = d[\"attention_mask\"].to(device)\n",
        "      targets = d[\"targets\"].to(device)\n",
        "\n",
        "      outputs = model(\n",
        "        input_ids=input_ids,\n",
        "        attention_mask=attention_mask\n",
        "      )\n",
        "      _, preds = torch.max(outputs, dim=1)\n",
        "\n",
        "      loss = loss_fn(outputs, targets)\n",
        "\n",
        "      correct_predictions += torch.sum(preds == targets)\n",
        "      losses.append(loss.item())\n",
        "\n",
        "  return correct_predictions.double() / n_examples, np.mean(losses)"
      ]
    },
    {
      "cell_type": "markdown",
      "metadata": {
        "id": "dKtLIg1Qd-gC"
      },
      "source": [
        "Usando esses dois, podemos escrever nosso loop de treinamento. Também armazenaremos o histórico de treinamento:"
      ]
    },
    {
      "cell_type": "code",
      "execution_count": null,
      "metadata": {
        "colab": {
          "base_uri": "https://localhost:8080/"
        },
        "executionInfo": {
          "elapsed": 2254442,
          "status": "ok",
          "timestamp": 1743787565830,
          "user": {
            "displayName": "Charles Mendes",
            "userId": "12076106897405312609"
          },
          "user_tz": 180
        },
        "id": "FD7hwSShd-HU",
        "outputId": "735b12e2-cff4-478c-d18c-fc0d8d590f9a"
      },
      "outputs": [],
      "source": [
        "%%time\n",
        "\n",
        "history = defaultdict(list)\n",
        "best_accuracy = 0\n",
        "\n",
        "for epoch in range(EPOCHS):\n",
        "\n",
        "  print(f'Epoch {epoch + 1}/{EPOCHS}')\n",
        "  print('-' * 10)\n",
        "\n",
        "  train_acc, train_loss = train_epoch(\n",
        "    model,\n",
        "    train_data_loader,\n",
        "    loss_fn,\n",
        "    optimizer,\n",
        "    device,\n",
        "    scheduler,\n",
        "    len(df_train)\n",
        "  )\n",
        "\n",
        "  print(f'Train loss {train_loss} accuracy {train_acc}')\n",
        "\n",
        "  val_acc, val_loss = eval_model(\n",
        "    model,\n",
        "    val_data_loader,\n",
        "    loss_fn,\n",
        "    device,\n",
        "    len(df_val)\n",
        "  )\n",
        "\n",
        "  print(f'Val   loss {val_loss} accuracy {val_acc}')\n",
        "  print()\n",
        "\n",
        "  history['train_acc'].append(train_acc)\n",
        "  history['train_loss'].append(train_loss)\n",
        "  history['val_acc'].append(val_acc)\n",
        "  \n",
        "  history['val_loss'].append(val_loss)\n",
        "\n",
        "  if val_acc > best_accuracy:\n",
        "    os.makedirs(\"../model\", exist_ok=True)\n",
        "    torch.save(model.state_dict(), '../model/bert_classifier.bin')\n",
        "    best_accuracy = val_acc"
      ]
    },
    {
      "cell_type": "markdown",
      "metadata": {
        "id": "5TPmJAz9TKlv"
      },
      "source": [
        "Note que estamos armazenando o estado do melhor modelo, indicado pela maior precisão de validação.\n",
        "\n",
        "Uau, isso levou algum tempo! Podemos olhar para a precisão de treinamento vs validação:"
      ]
    },
    {
      "cell_type": "code",
      "execution_count": null,
      "metadata": {
        "colab": {
          "base_uri": "https://localhost:8080/",
          "height": 734
        },
        "executionInfo": {
          "elapsed": 888,
          "status": "ok",
          "timestamp": 1743787895283,
          "user": {
            "displayName": "Charles Mendes",
            "userId": "12076106897405312609"
          },
          "user_tz": 180
        },
        "id": "anE8h-syhBiB",
        "outputId": "9cc469f0-6739-4c3d-cd26-79334470c97c"
      },
      "outputs": [],
      "source": [
        "train_acc = [tensor.cpu().numpy() for tensor in history['train_acc']]\n",
        "val_acc = [tensor.cpu().numpy() for tensor in history['val_acc']]\n",
        "\n",
        "plt.plot(train_acc, label='train accuracy')\n",
        "plt.plot(val_acc, label='validation accuracy')\n",
        "plt.title('Training history')\n",
        "plt.ylabel('Accuracy')\n",
        "plt.xlabel('Epoch')\n",
        "plt.legend()\n",
        "plt.ylim([0, 1])\n",
        "plt.show()"
      ]
    },
    {
      "cell_type": "markdown",
      "metadata": {
        "id": "CusxQuuFTPwj"
      },
      "source": [
        "A precisão do treinamento começa a se aproximar de 100% após 10 épocas ou mais. Você pode tentar ajustar os parâmetros um pouco mais, mas isso será bom o suficiente para nós.\n",
        "\n",
        "Não quer esperar? Descomente a próxima célula para baixar meu modelo pré-treinado:"
      ]
    },
    {
      "cell_type": "code",
      "execution_count": null,
      "metadata": {
        "id": "NdKQjFZaTMj7"
      },
      "outputs": [],
      "source": [
        "# !gdown --id  ==> PUT MY ID THERE1V8itWtowCYnb2Bc9KlK9SxGff9WwmogA\n",
        "\n",
        "# model = SentimentClassifier(len(class_names))\n",
        "# model.load_state_dict(torch.load('best_model_state.bin'))\n",
        "# model = model.to(device)"
      ]
    },
    {
      "cell_type": "markdown",
      "metadata": {
        "id": "Ie-jdgYtTVMl"
      },
      "source": [
        "### Avaliação\n",
        "\n",
        "Então, quão bom é nosso modelo em prever sentimentos? Vamos começar calculando a precisão nos dados de teste:"
      ]
    },
    {
      "cell_type": "code",
      "execution_count": null,
      "metadata": {
        "colab": {
          "base_uri": "https://localhost:8080/"
        },
        "executionInfo": {
          "elapsed": 4345,
          "status": "ok",
          "timestamp": 1743787971330,
          "user": {
            "displayName": "Charles Mendes",
            "userId": "12076106897405312609"
          },
          "user_tz": 180
        },
        "id": "VZko6upATa7I",
        "outputId": "ceb4eaa1-85d4-415e-e392-211d3c924a90"
      },
      "outputs": [],
      "source": [
        "test_acc, _ = eval_model(\n",
        "  model,\n",
        "  test_data_loader,\n",
        "  loss_fn,\n",
        "  device,\n",
        "  len(df_test)\n",
        ")\n",
        "\n",
        "test_acc.item()"
      ]
    },
    {
      "cell_type": "markdown",
      "metadata": {
        "id": "CijULKc4Tpn8"
      },
      "source": [
        "**TODO: Adicionar mais dados para subir a acurácia**"
      ]
    },
    {
      "cell_type": "markdown",
      "metadata": {
        "id": "viRJUSeOTneC"
      },
      "source": [
        "A precisão é cerca de 1% menor no conjunto de teste. Nosso modelo parece generalizar bem.\n",
        "\n",
        "Definiremos uma função auxiliar para obter as previsões do nosso modelo:"
      ]
    },
    {
      "cell_type": "code",
      "execution_count": null,
      "metadata": {
        "executionInfo": {
          "elapsed": 18,
          "status": "ok",
          "timestamp": 1743787973482,
          "user": {
            "displayName": "Charles Mendes",
            "userId": "12076106897405312609"
          },
          "user_tz": 180
        },
        "id": "eWVt9c9yTbY2"
      },
      "outputs": [],
      "source": [
        "def get_predictions(model, data_loader):\n",
        "  model = model.eval()\n",
        "\n",
        "  review_texts = []\n",
        "  predictions = []\n",
        "  prediction_probs = []\n",
        "  real_values = []\n",
        "\n",
        "  with torch.no_grad():\n",
        "    for d in data_loader:\n",
        "\n",
        "      texts = d[\"review_text\"]\n",
        "      input_ids = d[\"input_ids\"].to(device)\n",
        "      attention_mask = d[\"attention_mask\"].to(device)\n",
        "      targets = d[\"targets\"].to(device)\n",
        "\n",
        "      outputs = model(\n",
        "        input_ids=input_ids,\n",
        "        attention_mask=attention_mask\n",
        "      )\n",
        "      _, preds = torch.max(outputs, dim=1)\n",
        "\n",
        "      probs = F.softmax(outputs, dim=1)\n",
        "\n",
        "      review_texts.extend(texts)\n",
        "      predictions.extend(preds)\n",
        "      prediction_probs.extend(probs)\n",
        "      real_values.extend(targets)\n",
        "\n",
        "  predictions = torch.stack(predictions).cpu()\n",
        "  prediction_probs = torch.stack(prediction_probs).cpu()\n",
        "  real_values = torch.stack(real_values).cpu()\n",
        "  return review_texts, predictions, prediction_probs, real_values"
      ]
    },
    {
      "cell_type": "markdown",
      "metadata": {
        "id": "bE7DFsi1T4pk"
      },
      "source": [
        "Isso é semelhante à função de avaliação, exceto que estamos armazenando o texto das avaliações e as probabilidades previstas (aplicando o softmax nas saídas do modelo):"
      ]
    },
    {
      "cell_type": "code",
      "execution_count": null,
      "metadata": {
        "colab": {
          "base_uri": "https://localhost:8080/"
        },
        "executionInfo": {
          "elapsed": 4210,
          "status": "ok",
          "timestamp": 1743787980547,
          "user": {
            "displayName": "Charles Mendes",
            "userId": "12076106897405312609"
          },
          "user_tz": 180
        },
        "id": "wqDtEAAET2qD",
        "outputId": "9f5010a5-2bb0-4854-cab1-01e8d67f8105"
      },
      "outputs": [],
      "source": [
        "y_review_texts, y_pred, y_pred_probs, y_test = get_predictions(\n",
        "  model,\n",
        "  test_data_loader\n",
        ")"
      ]
    },
    {
      "cell_type": "markdown",
      "metadata": {
        "id": "D3fNSJqdT8oT"
      },
      "source": [
        "Vamos dar uma olhada no relatório de classificação"
      ]
    },
    {
      "cell_type": "code",
      "execution_count": null,
      "metadata": {
        "colab": {
          "base_uri": "https://localhost:8080/"
        },
        "executionInfo": {
          "elapsed": 27,
          "status": "ok",
          "timestamp": 1743787982992,
          "user": {
            "displayName": "Charles Mendes",
            "userId": "12076106897405312609"
          },
          "user_tz": 180
        },
        "id": "4nx51SfMT69t",
        "outputId": "0a184ee4-f1a2-4239-fbfe-23418642917a"
      },
      "outputs": [],
      "source": [
        "print(classification_report(y_test, y_pred, target_names=class_names))"
      ]
    },
    {
      "cell_type": "markdown",
      "metadata": {
        "id": "6XLuZqHsUAyN"
      },
      "source": [
        "Parece que é realmente difícil classificar avaliações neutras (3 estrelas). E posso dizer por experiência própria, olhando muitas avaliações, que elas são difíceis de classificar.\n",
        "\n",
        "Continuaremos com a matriz de confusão:"
      ]
    },
    {
      "cell_type": "code",
      "execution_count": null,
      "metadata": {
        "colab": {
          "base_uri": "https://localhost:8080/",
          "height": 747
        },
        "executionInfo": {
          "elapsed": 575,
          "status": "ok",
          "timestamp": 1743787985739,
          "user": {
            "displayName": "Charles Mendes",
            "userId": "12076106897405312609"
          },
          "user_tz": 180
        },
        "id": "LISbHZAIT-it",
        "outputId": "4e846743-7f83-4fdc-893f-e35ed5fac5a7"
      },
      "outputs": [],
      "source": [
        "def show_confusion_matrix(confusion_matrix):\n",
        "  hmap = sns.heatmap(confusion_matrix, annot=True, fmt=\"d\", cmap=\"Blues\")\n",
        "  hmap.yaxis.set_ticklabels(hmap.yaxis.get_ticklabels(), rotation=0, ha='right')\n",
        "  hmap.xaxis.set_ticklabels(hmap.xaxis.get_ticklabels(), rotation=30, ha='right')\n",
        "  plt.ylabel('True sentiment')\n",
        "  plt.xlabel('Predicted sentiment')\n",
        "\n",
        "cm = confusion_matrix(y_test, y_pred)\n",
        "df_cm = pd.DataFrame(cm, index=class_names, columns=class_names)\n",
        "show_confusion_matrix(df_cm)"
      ]
    },
    {
      "cell_type": "markdown",
      "metadata": {
        "id": "SGrauBCKUNs4"
      },
      "source": [
        "Isso confirma que nosso modelo está tendo dificuldade em classificar avaliações neutras. Ele confunde aquelas com negativas e positivas em uma frequência aproximadamente igual.\n",
        "\n",
        "Essa é uma boa visão geral do desempenho do nosso modelo. Mas vamos dar uma olhada em um exemplo dos nossos dados de teste:"
      ]
    },
    {
      "cell_type": "code",
      "execution_count": null,
      "metadata": {
        "executionInfo": {
          "elapsed": 46,
          "status": "ok",
          "timestamp": 1743788012124,
          "user": {
            "displayName": "Charles Mendes",
            "userId": "12076106897405312609"
          },
          "user_tz": 180
        },
        "id": "ryOEAWnCUDes"
      },
      "outputs": [],
      "source": [
        "idx = 2\n",
        "\n",
        "review_text = y_review_texts[idx]\n",
        "true_sentiment = y_test[idx]\n",
        "pred_df = pd.DataFrame({\n",
        "  'class_names': class_names,\n",
        "  'values': y_pred_probs[idx]\n",
        "})"
      ]
    },
    {
      "cell_type": "code",
      "execution_count": null,
      "metadata": {
        "colab": {
          "base_uri": "https://localhost:8080/"
        },
        "executionInfo": {
          "elapsed": 5,
          "status": "ok",
          "timestamp": 1743788014016,
          "user": {
            "displayName": "Charles Mendes",
            "userId": "12076106897405312609"
          },
          "user_tz": 180
        },
        "id": "NfUZerrFUQgF",
        "outputId": "c6073da6-219c-474d-aade-7faabec33855"
      },
      "outputs": [],
      "source": [
        "print(\"\\n\".join(wrap(review_text)))\n",
        "print()\n",
        "print(f'True sentiment: {class_names[true_sentiment]}')"
      ]
    },
    {
      "cell_type": "markdown",
      "metadata": {
        "id": "__zvq7oAUoTq"
      },
      "source": [
        "Agora podemos analisar a confiança de cada sentimento do nosso modelo:"
      ]
    },
    {
      "cell_type": "code",
      "execution_count": null,
      "metadata": {
        "colab": {
          "base_uri": "https://localhost:8080/",
          "height": 710
        },
        "executionInfo": {
          "elapsed": 276,
          "status": "ok",
          "timestamp": 1743788015998,
          "user": {
            "displayName": "Charles Mendes",
            "userId": "12076106897405312609"
          },
          "user_tz": 180
        },
        "id": "yI2foZLwUa-D",
        "outputId": "d3e13ae6-61de-47a6-b2da-3fc21508d6f7"
      },
      "outputs": [],
      "source": [
        "sns.barplot(x='values', y='class_names', data=pred_df, orient='h')\n",
        "plt.ylabel('sentiment')\n",
        "plt.xlabel('probability')\n",
        "plt.xlim([0, 1]);"
      ]
    },
    {
      "cell_type": "markdown",
      "metadata": {
        "id": "VKKFcZWGUtPT"
      },
      "source": [
        "### Prevendo em texto bruto\n",
        "\n",
        "Vamos usar nosso modelo para prever o sentimento de algum texto bruto:"
      ]
    },
    {
      "cell_type": "markdown",
      "metadata": {
        "id": "Y_uMQh4iU7oz"
      },
      "source": [
        "Temos que usar o tokenizador para codificar o texto:"
      ]
    },
    {
      "cell_type": "code",
      "execution_count": null,
      "metadata": {
        "executionInfo": {
          "elapsed": 4,
          "status": "ok",
          "timestamp": 1743788128018,
          "user": {
            "displayName": "Charles Mendes",
            "userId": "12076106897405312609"
          },
          "user_tz": 180
        },
        "id": "qBhmfageU0KH"
      },
      "outputs": [],
      "source": [
        "review_text = \"Não sei dizer nada sobre o ifood.\""
      ]
    },
    {
      "cell_type": "code",
      "execution_count": null,
      "metadata": {
        "executionInfo": {
          "elapsed": 18,
          "status": "ok",
          "timestamp": 1743788129159,
          "user": {
            "displayName": "Charles Mendes",
            "userId": "12076106897405312609"
          },
          "user_tz": 180
        },
        "id": "IhBP47RrU7Fo"
      },
      "outputs": [],
      "source": [
        "encoded_review = tokenizer.encode_plus(\n",
        "  review_text,\n",
        "  max_length=MAX_LEN,\n",
        "  add_special_tokens=True,\n",
        "  return_token_type_ids=False,\n",
        "  pad_to_max_length=True,\n",
        "  return_attention_mask=True,\n",
        "  return_tensors='pt',\n",
        ")"
      ]
    },
    {
      "cell_type": "markdown",
      "metadata": {
        "id": "78iajgyHU_np"
      },
      "source": [
        "Vamos obter as previsões do nosso modelo:"
      ]
    },
    {
      "cell_type": "code",
      "execution_count": null,
      "metadata": {
        "colab": {
          "base_uri": "https://localhost:8080/"
        },
        "executionInfo": {
          "elapsed": 40,
          "status": "ok",
          "timestamp": 1743788130556,
          "user": {
            "displayName": "Charles Mendes",
            "userId": "12076106897405312609"
          },
          "user_tz": 180
        },
        "id": "l7yUhQJoU9yb",
        "outputId": "58f00fd9-ce22-444f-bb24-281c587aefec"
      },
      "outputs": [],
      "source": [
        "input_ids = encoded_review['input_ids'].to(device)\n",
        "attention_mask = encoded_review['attention_mask'].to(device)\n",
        "\n",
        "output = model(input_ids, attention_mask)\n",
        "_, prediction = torch.max(output, dim=1)\n",
        "\n",
        "print(f'Review text: {review_text}')\n",
        "print(f'Sentiment  : {class_names[prediction]}')"
      ]
    }
  ],
  "metadata": {
    "accelerator": "GPU",
    "colab": {
      "provenance": []
    },
    "kernelspec": {
      "display_name": "venv",
      "language": "python",
      "name": "python3"
    },
    "language_info": {
      "codemirror_mode": {
        "name": "ipython",
        "version": 3
      },
      "file_extension": ".py",
      "mimetype": "text/x-python",
      "name": "python",
      "nbconvert_exporter": "python",
      "pygments_lexer": "ipython3",
      "version": "3.10.11"
    },
    "widgets": {
      "application/vnd.jupyter.widget-state+json": {
        "0133aa283863461194114a373365f4c3": {
          "model_module": "@jupyter-widgets/base",
          "model_module_version": "1.2.0",
          "model_name": "LayoutModel",
          "state": {
            "_model_module": "@jupyter-widgets/base",
            "_model_module_version": "1.2.0",
            "_model_name": "LayoutModel",
            "_view_count": null,
            "_view_module": "@jupyter-widgets/base",
            "_view_module_version": "1.2.0",
            "_view_name": "LayoutView",
            "align_content": null,
            "align_items": null,
            "align_self": null,
            "border": null,
            "bottom": null,
            "display": null,
            "flex": null,
            "flex_flow": null,
            "grid_area": null,
            "grid_auto_columns": null,
            "grid_auto_flow": null,
            "grid_auto_rows": null,
            "grid_column": null,
            "grid_gap": null,
            "grid_row": null,
            "grid_template_areas": null,
            "grid_template_columns": null,
            "grid_template_rows": null,
            "height": null,
            "justify_content": null,
            "justify_items": null,
            "left": null,
            "margin": null,
            "max_height": null,
            "max_width": null,
            "min_height": null,
            "min_width": null,
            "object_fit": null,
            "object_position": null,
            "order": null,
            "overflow": null,
            "overflow_x": null,
            "overflow_y": null,
            "padding": null,
            "right": null,
            "top": null,
            "visibility": null,
            "width": null
          }
        },
        "084870e2de5d4adeb4802c5abfae3927": {
          "model_module": "@jupyter-widgets/controls",
          "model_module_version": "1.5.0",
          "model_name": "HTMLModel",
          "state": {
            "_dom_classes": [],
            "_model_module": "@jupyter-widgets/controls",
            "_model_module_version": "1.5.0",
            "_model_name": "HTMLModel",
            "_view_count": null,
            "_view_module": "@jupyter-widgets/controls",
            "_view_module_version": "1.5.0",
            "_view_name": "HTMLView",
            "description": "",
            "description_tooltip": null,
            "layout": "IPY_MODEL_4d30137eb2704915b51afb2bc88d2d7e",
            "placeholder": "​",
            "style": "IPY_MODEL_68ec62f9606a45ffa4ac855190a801fe",
            "value": " 2.00/2.00 [00:00&lt;00:00, 219B/s]"
          }
        },
        "0c61954478834b8bacc4efc65edd9fc2": {
          "model_module": "@jupyter-widgets/controls",
          "model_module_version": "1.5.0",
          "model_name": "HBoxModel",
          "state": {
            "_dom_classes": [],
            "_model_module": "@jupyter-widgets/controls",
            "_model_module_version": "1.5.0",
            "_model_name": "HBoxModel",
            "_view_count": null,
            "_view_module": "@jupyter-widgets/controls",
            "_view_module_version": "1.5.0",
            "_view_name": "HBoxView",
            "box_style": "",
            "children": [
              "IPY_MODEL_c5ed1be4c88c4092afe40802b6525b9a",
              "IPY_MODEL_5023c02f203e4f5f86ec729574934563",
              "IPY_MODEL_4c03fd6199ad448d92375f88004e2659"
            ],
            "layout": "IPY_MODEL_af5a91221328476588e2ecf00b514cf0"
          }
        },
        "0e501652606b4767a6b342a35c6a5286": {
          "model_module": "@jupyter-widgets/base",
          "model_module_version": "1.2.0",
          "model_name": "LayoutModel",
          "state": {
            "_model_module": "@jupyter-widgets/base",
            "_model_module_version": "1.2.0",
            "_model_name": "LayoutModel",
            "_view_count": null,
            "_view_module": "@jupyter-widgets/base",
            "_view_module_version": "1.2.0",
            "_view_name": "LayoutView",
            "align_content": null,
            "align_items": null,
            "align_self": null,
            "border": null,
            "bottom": null,
            "display": null,
            "flex": null,
            "flex_flow": null,
            "grid_area": null,
            "grid_auto_columns": null,
            "grid_auto_flow": null,
            "grid_auto_rows": null,
            "grid_column": null,
            "grid_gap": null,
            "grid_row": null,
            "grid_template_areas": null,
            "grid_template_columns": null,
            "grid_template_rows": null,
            "height": null,
            "justify_content": null,
            "justify_items": null,
            "left": null,
            "margin": null,
            "max_height": null,
            "max_width": null,
            "min_height": null,
            "min_width": null,
            "object_fit": null,
            "object_position": null,
            "order": null,
            "overflow": null,
            "overflow_x": null,
            "overflow_y": null,
            "padding": null,
            "right": null,
            "top": null,
            "visibility": null,
            "width": null
          }
        },
        "0eb3975f47c94620842a77fd9856d498": {
          "model_module": "@jupyter-widgets/controls",
          "model_module_version": "1.5.0",
          "model_name": "ProgressStyleModel",
          "state": {
            "_model_module": "@jupyter-widgets/controls",
            "_model_module_version": "1.5.0",
            "_model_name": "ProgressStyleModel",
            "_view_count": null,
            "_view_module": "@jupyter-widgets/base",
            "_view_module_version": "1.2.0",
            "_view_name": "StyleView",
            "bar_color": null,
            "description_width": ""
          }
        },
        "0f4332372a534054872c68dc2e875f37": {
          "model_module": "@jupyter-widgets/base",
          "model_module_version": "1.2.0",
          "model_name": "LayoutModel",
          "state": {
            "_model_module": "@jupyter-widgets/base",
            "_model_module_version": "1.2.0",
            "_model_name": "LayoutModel",
            "_view_count": null,
            "_view_module": "@jupyter-widgets/base",
            "_view_module_version": "1.2.0",
            "_view_name": "LayoutView",
            "align_content": null,
            "align_items": null,
            "align_self": null,
            "border": null,
            "bottom": null,
            "display": null,
            "flex": null,
            "flex_flow": null,
            "grid_area": null,
            "grid_auto_columns": null,
            "grid_auto_flow": null,
            "grid_auto_rows": null,
            "grid_column": null,
            "grid_gap": null,
            "grid_row": null,
            "grid_template_areas": null,
            "grid_template_columns": null,
            "grid_template_rows": null,
            "height": null,
            "justify_content": null,
            "justify_items": null,
            "left": null,
            "margin": null,
            "max_height": null,
            "max_width": null,
            "min_height": null,
            "min_width": null,
            "object_fit": null,
            "object_position": null,
            "order": null,
            "overflow": null,
            "overflow_x": null,
            "overflow_y": null,
            "padding": null,
            "right": null,
            "top": null,
            "visibility": null,
            "width": null
          }
        },
        "1260b250023047adbbe640d78f8d88dd": {
          "model_module": "@jupyter-widgets/base",
          "model_module_version": "1.2.0",
          "model_name": "LayoutModel",
          "state": {
            "_model_module": "@jupyter-widgets/base",
            "_model_module_version": "1.2.0",
            "_model_name": "LayoutModel",
            "_view_count": null,
            "_view_module": "@jupyter-widgets/base",
            "_view_module_version": "1.2.0",
            "_view_name": "LayoutView",
            "align_content": null,
            "align_items": null,
            "align_self": null,
            "border": null,
            "bottom": null,
            "display": null,
            "flex": null,
            "flex_flow": null,
            "grid_area": null,
            "grid_auto_columns": null,
            "grid_auto_flow": null,
            "grid_auto_rows": null,
            "grid_column": null,
            "grid_gap": null,
            "grid_row": null,
            "grid_template_areas": null,
            "grid_template_columns": null,
            "grid_template_rows": null,
            "height": null,
            "justify_content": null,
            "justify_items": null,
            "left": null,
            "margin": null,
            "max_height": null,
            "max_width": null,
            "min_height": null,
            "min_width": null,
            "object_fit": null,
            "object_position": null,
            "order": null,
            "overflow": null,
            "overflow_x": null,
            "overflow_y": null,
            "padding": null,
            "right": null,
            "top": null,
            "visibility": null,
            "width": null
          }
        },
        "1344dd6af0354abca9bca46fce92ddee": {
          "model_module": "@jupyter-widgets/base",
          "model_module_version": "1.2.0",
          "model_name": "LayoutModel",
          "state": {
            "_model_module": "@jupyter-widgets/base",
            "_model_module_version": "1.2.0",
            "_model_name": "LayoutModel",
            "_view_count": null,
            "_view_module": "@jupyter-widgets/base",
            "_view_module_version": "1.2.0",
            "_view_name": "LayoutView",
            "align_content": null,
            "align_items": null,
            "align_self": null,
            "border": null,
            "bottom": null,
            "display": null,
            "flex": null,
            "flex_flow": null,
            "grid_area": null,
            "grid_auto_columns": null,
            "grid_auto_flow": null,
            "grid_auto_rows": null,
            "grid_column": null,
            "grid_gap": null,
            "grid_row": null,
            "grid_template_areas": null,
            "grid_template_columns": null,
            "grid_template_rows": null,
            "height": null,
            "justify_content": null,
            "justify_items": null,
            "left": null,
            "margin": null,
            "max_height": null,
            "max_width": null,
            "min_height": null,
            "min_width": null,
            "object_fit": null,
            "object_position": null,
            "order": null,
            "overflow": null,
            "overflow_x": null,
            "overflow_y": null,
            "padding": null,
            "right": null,
            "top": null,
            "visibility": null,
            "width": null
          }
        },
        "20b7f91742d843588329ffa6e929c63d": {
          "model_module": "@jupyter-widgets/base",
          "model_module_version": "1.2.0",
          "model_name": "LayoutModel",
          "state": {
            "_model_module": "@jupyter-widgets/base",
            "_model_module_version": "1.2.0",
            "_model_name": "LayoutModel",
            "_view_count": null,
            "_view_module": "@jupyter-widgets/base",
            "_view_module_version": "1.2.0",
            "_view_name": "LayoutView",
            "align_content": null,
            "align_items": null,
            "align_self": null,
            "border": null,
            "bottom": null,
            "display": null,
            "flex": null,
            "flex_flow": null,
            "grid_area": null,
            "grid_auto_columns": null,
            "grid_auto_flow": null,
            "grid_auto_rows": null,
            "grid_column": null,
            "grid_gap": null,
            "grid_row": null,
            "grid_template_areas": null,
            "grid_template_columns": null,
            "grid_template_rows": null,
            "height": null,
            "justify_content": null,
            "justify_items": null,
            "left": null,
            "margin": null,
            "max_height": null,
            "max_width": null,
            "min_height": null,
            "min_width": null,
            "object_fit": null,
            "object_position": null,
            "order": null,
            "overflow": null,
            "overflow_x": null,
            "overflow_y": null,
            "padding": null,
            "right": null,
            "top": null,
            "visibility": null,
            "width": null
          }
        },
        "26063ea556cc48619a1b42e6afe79414": {
          "model_module": "@jupyter-widgets/controls",
          "model_module_version": "1.5.0",
          "model_name": "HTMLModel",
          "state": {
            "_dom_classes": [],
            "_model_module": "@jupyter-widgets/controls",
            "_model_module_version": "1.5.0",
            "_model_name": "HTMLModel",
            "_view_count": null,
            "_view_module": "@jupyter-widgets/controls",
            "_view_module_version": "1.5.0",
            "_view_name": "HTMLView",
            "description": "",
            "description_tooltip": null,
            "layout": "IPY_MODEL_276e4d55f1ab4e21b0f69da1755e9d22",
            "placeholder": "​",
            "style": "IPY_MODEL_64df4ddc221240b3a78e4a56c83e2389",
            "value": " 210k/210k [00:00&lt;00:00, 6.32MB/s]"
          }
        },
        "276e4d55f1ab4e21b0f69da1755e9d22": {
          "model_module": "@jupyter-widgets/base",
          "model_module_version": "1.2.0",
          "model_name": "LayoutModel",
          "state": {
            "_model_module": "@jupyter-widgets/base",
            "_model_module_version": "1.2.0",
            "_model_name": "LayoutModel",
            "_view_count": null,
            "_view_module": "@jupyter-widgets/base",
            "_view_module_version": "1.2.0",
            "_view_name": "LayoutView",
            "align_content": null,
            "align_items": null,
            "align_self": null,
            "border": null,
            "bottom": null,
            "display": null,
            "flex": null,
            "flex_flow": null,
            "grid_area": null,
            "grid_auto_columns": null,
            "grid_auto_flow": null,
            "grid_auto_rows": null,
            "grid_column": null,
            "grid_gap": null,
            "grid_row": null,
            "grid_template_areas": null,
            "grid_template_columns": null,
            "grid_template_rows": null,
            "height": null,
            "justify_content": null,
            "justify_items": null,
            "left": null,
            "margin": null,
            "max_height": null,
            "max_width": null,
            "min_height": null,
            "min_width": null,
            "object_fit": null,
            "object_position": null,
            "order": null,
            "overflow": null,
            "overflow_x": null,
            "overflow_y": null,
            "padding": null,
            "right": null,
            "top": null,
            "visibility": null,
            "width": null
          }
        },
        "2817e4f3a7ae4614aff6dfdde17013f3": {
          "model_module": "@jupyter-widgets/controls",
          "model_module_version": "1.5.0",
          "model_name": "DescriptionStyleModel",
          "state": {
            "_model_module": "@jupyter-widgets/controls",
            "_model_module_version": "1.5.0",
            "_model_name": "DescriptionStyleModel",
            "_view_count": null,
            "_view_module": "@jupyter-widgets/base",
            "_view_module_version": "1.2.0",
            "_view_name": "StyleView",
            "description_width": ""
          }
        },
        "294a035798a3487ba3bea498dc8a02de": {
          "model_module": "@jupyter-widgets/base",
          "model_module_version": "1.2.0",
          "model_name": "LayoutModel",
          "state": {
            "_model_module": "@jupyter-widgets/base",
            "_model_module_version": "1.2.0",
            "_model_name": "LayoutModel",
            "_view_count": null,
            "_view_module": "@jupyter-widgets/base",
            "_view_module_version": "1.2.0",
            "_view_name": "LayoutView",
            "align_content": null,
            "align_items": null,
            "align_self": null,
            "border": null,
            "bottom": null,
            "display": null,
            "flex": null,
            "flex_flow": null,
            "grid_area": null,
            "grid_auto_columns": null,
            "grid_auto_flow": null,
            "grid_auto_rows": null,
            "grid_column": null,
            "grid_gap": null,
            "grid_row": null,
            "grid_template_areas": null,
            "grid_template_columns": null,
            "grid_template_rows": null,
            "height": null,
            "justify_content": null,
            "justify_items": null,
            "left": null,
            "margin": null,
            "max_height": null,
            "max_width": null,
            "min_height": null,
            "min_width": null,
            "object_fit": null,
            "object_position": null,
            "order": null,
            "overflow": null,
            "overflow_x": null,
            "overflow_y": null,
            "padding": null,
            "right": null,
            "top": null,
            "visibility": null,
            "width": null
          }
        },
        "2b4eef2e7d5b4777bb409dc263bbc35f": {
          "model_module": "@jupyter-widgets/controls",
          "model_module_version": "1.5.0",
          "model_name": "DescriptionStyleModel",
          "state": {
            "_model_module": "@jupyter-widgets/controls",
            "_model_module_version": "1.5.0",
            "_model_name": "DescriptionStyleModel",
            "_view_count": null,
            "_view_module": "@jupyter-widgets/base",
            "_view_module_version": "1.2.0",
            "_view_name": "StyleView",
            "description_width": ""
          }
        },
        "2cf11f0bd83649abaa03ed76e4ead6f8": {
          "model_module": "@jupyter-widgets/controls",
          "model_module_version": "1.5.0",
          "model_name": "ProgressStyleModel",
          "state": {
            "_model_module": "@jupyter-widgets/controls",
            "_model_module_version": "1.5.0",
            "_model_name": "ProgressStyleModel",
            "_view_count": null,
            "_view_module": "@jupyter-widgets/base",
            "_view_module_version": "1.2.0",
            "_view_name": "StyleView",
            "bar_color": null,
            "description_width": ""
          }
        },
        "2d5ef0c442924c0b93ebea432a4e81dd": {
          "model_module": "@jupyter-widgets/controls",
          "model_module_version": "1.5.0",
          "model_name": "HTMLModel",
          "state": {
            "_dom_classes": [],
            "_model_module": "@jupyter-widgets/controls",
            "_model_module_version": "1.5.0",
            "_model_name": "HTMLModel",
            "_view_count": null,
            "_view_module": "@jupyter-widgets/controls",
            "_view_module_version": "1.5.0",
            "_view_name": "HTMLView",
            "description": "",
            "description_tooltip": null,
            "layout": "IPY_MODEL_66a217276cb14747a22bf4472cefea52",
            "placeholder": "​",
            "style": "IPY_MODEL_b8ec2043b2b14ae4b9b2576327ddf312",
            "value": "vocab.txt: 100%"
          }
        },
        "2f7975c0060e4c578a77888e37adebf9": {
          "model_module": "@jupyter-widgets/controls",
          "model_module_version": "1.5.0",
          "model_name": "DescriptionStyleModel",
          "state": {
            "_model_module": "@jupyter-widgets/controls",
            "_model_module_version": "1.5.0",
            "_model_name": "DescriptionStyleModel",
            "_view_count": null,
            "_view_module": "@jupyter-widgets/base",
            "_view_module_version": "1.2.0",
            "_view_name": "StyleView",
            "description_width": ""
          }
        },
        "302051f125ae40179af39650575ebfa0": {
          "model_module": "@jupyter-widgets/base",
          "model_module_version": "1.2.0",
          "model_name": "LayoutModel",
          "state": {
            "_model_module": "@jupyter-widgets/base",
            "_model_module_version": "1.2.0",
            "_model_name": "LayoutModel",
            "_view_count": null,
            "_view_module": "@jupyter-widgets/base",
            "_view_module_version": "1.2.0",
            "_view_name": "LayoutView",
            "align_content": null,
            "align_items": null,
            "align_self": null,
            "border": null,
            "bottom": null,
            "display": null,
            "flex": null,
            "flex_flow": null,
            "grid_area": null,
            "grid_auto_columns": null,
            "grid_auto_flow": null,
            "grid_auto_rows": null,
            "grid_column": null,
            "grid_gap": null,
            "grid_row": null,
            "grid_template_areas": null,
            "grid_template_columns": null,
            "grid_template_rows": null,
            "height": null,
            "justify_content": null,
            "justify_items": null,
            "left": null,
            "margin": null,
            "max_height": null,
            "max_width": null,
            "min_height": null,
            "min_width": null,
            "object_fit": null,
            "object_position": null,
            "order": null,
            "overflow": null,
            "overflow_x": null,
            "overflow_y": null,
            "padding": null,
            "right": null,
            "top": null,
            "visibility": null,
            "width": null
          }
        },
        "30449da953114efd996a458cdcff389c": {
          "model_module": "@jupyter-widgets/controls",
          "model_module_version": "1.5.0",
          "model_name": "DescriptionStyleModel",
          "state": {
            "_model_module": "@jupyter-widgets/controls",
            "_model_module_version": "1.5.0",
            "_model_name": "DescriptionStyleModel",
            "_view_count": null,
            "_view_module": "@jupyter-widgets/base",
            "_view_module_version": "1.2.0",
            "_view_name": "StyleView",
            "description_width": ""
          }
        },
        "307ac3bc16d448f7a14af7e8bec402f5": {
          "model_module": "@jupyter-widgets/controls",
          "model_module_version": "1.5.0",
          "model_name": "ProgressStyleModel",
          "state": {
            "_model_module": "@jupyter-widgets/controls",
            "_model_module_version": "1.5.0",
            "_model_name": "ProgressStyleModel",
            "_view_count": null,
            "_view_module": "@jupyter-widgets/base",
            "_view_module_version": "1.2.0",
            "_view_name": "StyleView",
            "bar_color": null,
            "description_width": ""
          }
        },
        "3764d26ea89341a580977bd5ebc408f8": {
          "model_module": "@jupyter-widgets/base",
          "model_module_version": "1.2.0",
          "model_name": "LayoutModel",
          "state": {
            "_model_module": "@jupyter-widgets/base",
            "_model_module_version": "1.2.0",
            "_model_name": "LayoutModel",
            "_view_count": null,
            "_view_module": "@jupyter-widgets/base",
            "_view_module_version": "1.2.0",
            "_view_name": "LayoutView",
            "align_content": null,
            "align_items": null,
            "align_self": null,
            "border": null,
            "bottom": null,
            "display": null,
            "flex": null,
            "flex_flow": null,
            "grid_area": null,
            "grid_auto_columns": null,
            "grid_auto_flow": null,
            "grid_auto_rows": null,
            "grid_column": null,
            "grid_gap": null,
            "grid_row": null,
            "grid_template_areas": null,
            "grid_template_columns": null,
            "grid_template_rows": null,
            "height": null,
            "justify_content": null,
            "justify_items": null,
            "left": null,
            "margin": null,
            "max_height": null,
            "max_width": null,
            "min_height": null,
            "min_width": null,
            "object_fit": null,
            "object_position": null,
            "order": null,
            "overflow": null,
            "overflow_x": null,
            "overflow_y": null,
            "padding": null,
            "right": null,
            "top": null,
            "visibility": null,
            "width": null
          }
        },
        "39f0b1db21aa461faf910b6bf9cfa39a": {
          "model_module": "@jupyter-widgets/controls",
          "model_module_version": "1.5.0",
          "model_name": "DescriptionStyleModel",
          "state": {
            "_model_module": "@jupyter-widgets/controls",
            "_model_module_version": "1.5.0",
            "_model_name": "DescriptionStyleModel",
            "_view_count": null,
            "_view_module": "@jupyter-widgets/base",
            "_view_module_version": "1.2.0",
            "_view_name": "StyleView",
            "description_width": ""
          }
        },
        "3b9910eafc774213ac1f898d2e300ba9": {
          "model_module": "@jupyter-widgets/base",
          "model_module_version": "1.2.0",
          "model_name": "LayoutModel",
          "state": {
            "_model_module": "@jupyter-widgets/base",
            "_model_module_version": "1.2.0",
            "_model_name": "LayoutModel",
            "_view_count": null,
            "_view_module": "@jupyter-widgets/base",
            "_view_module_version": "1.2.0",
            "_view_name": "LayoutView",
            "align_content": null,
            "align_items": null,
            "align_self": null,
            "border": null,
            "bottom": null,
            "display": null,
            "flex": null,
            "flex_flow": null,
            "grid_area": null,
            "grid_auto_columns": null,
            "grid_auto_flow": null,
            "grid_auto_rows": null,
            "grid_column": null,
            "grid_gap": null,
            "grid_row": null,
            "grid_template_areas": null,
            "grid_template_columns": null,
            "grid_template_rows": null,
            "height": null,
            "justify_content": null,
            "justify_items": null,
            "left": null,
            "margin": null,
            "max_height": null,
            "max_width": null,
            "min_height": null,
            "min_width": null,
            "object_fit": null,
            "object_position": null,
            "order": null,
            "overflow": null,
            "overflow_x": null,
            "overflow_y": null,
            "padding": null,
            "right": null,
            "top": null,
            "visibility": null,
            "width": null
          }
        },
        "3fd0ca5572314b63a4b51f6dc4a629a1": {
          "model_module": "@jupyter-widgets/base",
          "model_module_version": "1.2.0",
          "model_name": "LayoutModel",
          "state": {
            "_model_module": "@jupyter-widgets/base",
            "_model_module_version": "1.2.0",
            "_model_name": "LayoutModel",
            "_view_count": null,
            "_view_module": "@jupyter-widgets/base",
            "_view_module_version": "1.2.0",
            "_view_name": "LayoutView",
            "align_content": null,
            "align_items": null,
            "align_self": null,
            "border": null,
            "bottom": null,
            "display": null,
            "flex": null,
            "flex_flow": null,
            "grid_area": null,
            "grid_auto_columns": null,
            "grid_auto_flow": null,
            "grid_auto_rows": null,
            "grid_column": null,
            "grid_gap": null,
            "grid_row": null,
            "grid_template_areas": null,
            "grid_template_columns": null,
            "grid_template_rows": null,
            "height": null,
            "justify_content": null,
            "justify_items": null,
            "left": null,
            "margin": null,
            "max_height": null,
            "max_width": null,
            "min_height": null,
            "min_width": null,
            "object_fit": null,
            "object_position": null,
            "order": null,
            "overflow": null,
            "overflow_x": null,
            "overflow_y": null,
            "padding": null,
            "right": null,
            "top": null,
            "visibility": null,
            "width": null
          }
        },
        "3fdffea7be224a9da0605de4f3b1f660": {
          "model_module": "@jupyter-widgets/base",
          "model_module_version": "1.2.0",
          "model_name": "LayoutModel",
          "state": {
            "_model_module": "@jupyter-widgets/base",
            "_model_module_version": "1.2.0",
            "_model_name": "LayoutModel",
            "_view_count": null,
            "_view_module": "@jupyter-widgets/base",
            "_view_module_version": "1.2.0",
            "_view_name": "LayoutView",
            "align_content": null,
            "align_items": null,
            "align_self": null,
            "border": null,
            "bottom": null,
            "display": null,
            "flex": null,
            "flex_flow": null,
            "grid_area": null,
            "grid_auto_columns": null,
            "grid_auto_flow": null,
            "grid_auto_rows": null,
            "grid_column": null,
            "grid_gap": null,
            "grid_row": null,
            "grid_template_areas": null,
            "grid_template_columns": null,
            "grid_template_rows": null,
            "height": null,
            "justify_content": null,
            "justify_items": null,
            "left": null,
            "margin": null,
            "max_height": null,
            "max_width": null,
            "min_height": null,
            "min_width": null,
            "object_fit": null,
            "object_position": null,
            "order": null,
            "overflow": null,
            "overflow_x": null,
            "overflow_y": null,
            "padding": null,
            "right": null,
            "top": null,
            "visibility": null,
            "width": null
          }
        },
        "4081328271874c65820beca7dcf4466b": {
          "model_module": "@jupyter-widgets/controls",
          "model_module_version": "1.5.0",
          "model_name": "FloatProgressModel",
          "state": {
            "_dom_classes": [],
            "_model_module": "@jupyter-widgets/controls",
            "_model_module_version": "1.5.0",
            "_model_name": "FloatProgressModel",
            "_view_count": null,
            "_view_module": "@jupyter-widgets/controls",
            "_view_module_version": "1.5.0",
            "_view_name": "ProgressView",
            "bar_style": "success",
            "description": "",
            "description_tooltip": null,
            "layout": "IPY_MODEL_e62d91f5f87940fba957d156c8aafcd1",
            "max": 647,
            "min": 0,
            "orientation": "horizontal",
            "style": "IPY_MODEL_307ac3bc16d448f7a14af7e8bec402f5",
            "value": 647
          }
        },
        "4715fcf8dbe746e29342ac8cf7edd3a6": {
          "model_module": "@jupyter-widgets/controls",
          "model_module_version": "1.5.0",
          "model_name": "HTMLModel",
          "state": {
            "_dom_classes": [],
            "_model_module": "@jupyter-widgets/controls",
            "_model_module_version": "1.5.0",
            "_model_name": "HTMLModel",
            "_view_count": null,
            "_view_module": "@jupyter-widgets/controls",
            "_view_module_version": "1.5.0",
            "_view_name": "HTMLView",
            "description": "",
            "description_tooltip": null,
            "layout": "IPY_MODEL_3fd0ca5572314b63a4b51f6dc4a629a1",
            "placeholder": "​",
            "style": "IPY_MODEL_2b4eef2e7d5b4777bb409dc263bbc35f",
            "value": "tokenizer_config.json: 100%"
          }
        },
        "49a3acff12924e41bf05c9d8125cc40a": {
          "model_module": "@jupyter-widgets/base",
          "model_module_version": "1.2.0",
          "model_name": "LayoutModel",
          "state": {
            "_model_module": "@jupyter-widgets/base",
            "_model_module_version": "1.2.0",
            "_model_name": "LayoutModel",
            "_view_count": null,
            "_view_module": "@jupyter-widgets/base",
            "_view_module_version": "1.2.0",
            "_view_name": "LayoutView",
            "align_content": null,
            "align_items": null,
            "align_self": null,
            "border": null,
            "bottom": null,
            "display": null,
            "flex": null,
            "flex_flow": null,
            "grid_area": null,
            "grid_auto_columns": null,
            "grid_auto_flow": null,
            "grid_auto_rows": null,
            "grid_column": null,
            "grid_gap": null,
            "grid_row": null,
            "grid_template_areas": null,
            "grid_template_columns": null,
            "grid_template_rows": null,
            "height": null,
            "justify_content": null,
            "justify_items": null,
            "left": null,
            "margin": null,
            "max_height": null,
            "max_width": null,
            "min_height": null,
            "min_width": null,
            "object_fit": null,
            "object_position": null,
            "order": null,
            "overflow": null,
            "overflow_x": null,
            "overflow_y": null,
            "padding": null,
            "right": null,
            "top": null,
            "visibility": null,
            "width": null
          }
        },
        "4c03fd6199ad448d92375f88004e2659": {
          "model_module": "@jupyter-widgets/controls",
          "model_module_version": "1.5.0",
          "model_name": "HTMLModel",
          "state": {
            "_dom_classes": [],
            "_model_module": "@jupyter-widgets/controls",
            "_model_module_version": "1.5.0",
            "_model_name": "HTMLModel",
            "_view_count": null,
            "_view_module": "@jupyter-widgets/controls",
            "_view_module_version": "1.5.0",
            "_view_name": "HTMLView",
            "description": "",
            "description_tooltip": null,
            "layout": "IPY_MODEL_3764d26ea89341a580977bd5ebc408f8",
            "placeholder": "​",
            "style": "IPY_MODEL_cbfd07cae479493db405af0dbe97a24b",
            "value": " 112/112 [00:00&lt;00:00, 7.52kB/s]"
          }
        },
        "4d30137eb2704915b51afb2bc88d2d7e": {
          "model_module": "@jupyter-widgets/base",
          "model_module_version": "1.2.0",
          "model_name": "LayoutModel",
          "state": {
            "_model_module": "@jupyter-widgets/base",
            "_model_module_version": "1.2.0",
            "_model_name": "LayoutModel",
            "_view_count": null,
            "_view_module": "@jupyter-widgets/base",
            "_view_module_version": "1.2.0",
            "_view_name": "LayoutView",
            "align_content": null,
            "align_items": null,
            "align_self": null,
            "border": null,
            "bottom": null,
            "display": null,
            "flex": null,
            "flex_flow": null,
            "grid_area": null,
            "grid_auto_columns": null,
            "grid_auto_flow": null,
            "grid_auto_rows": null,
            "grid_column": null,
            "grid_gap": null,
            "grid_row": null,
            "grid_template_areas": null,
            "grid_template_columns": null,
            "grid_template_rows": null,
            "height": null,
            "justify_content": null,
            "justify_items": null,
            "left": null,
            "margin": null,
            "max_height": null,
            "max_width": null,
            "min_height": null,
            "min_width": null,
            "object_fit": null,
            "object_position": null,
            "order": null,
            "overflow": null,
            "overflow_x": null,
            "overflow_y": null,
            "padding": null,
            "right": null,
            "top": null,
            "visibility": null,
            "width": null
          }
        },
        "4dc6b4cab3c34427971282974ea4d6a0": {
          "model_module": "@jupyter-widgets/controls",
          "model_module_version": "1.5.0",
          "model_name": "HBoxModel",
          "state": {
            "_dom_classes": [],
            "_model_module": "@jupyter-widgets/controls",
            "_model_module_version": "1.5.0",
            "_model_name": "HBoxModel",
            "_view_count": null,
            "_view_module": "@jupyter-widgets/controls",
            "_view_module_version": "1.5.0",
            "_view_name": "HBoxView",
            "box_style": "",
            "children": [
              "IPY_MODEL_6076190ecc294b6f8153e62173d43a93",
              "IPY_MODEL_4081328271874c65820beca7dcf4466b",
              "IPY_MODEL_6d76177870964822ad2b8c7ee20dcc96"
            ],
            "layout": "IPY_MODEL_1344dd6af0354abca9bca46fce92ddee"
          }
        },
        "4fa68e060aa145b0be4e10c3b5eb6455": {
          "model_module": "@jupyter-widgets/controls",
          "model_module_version": "1.5.0",
          "model_name": "HTMLModel",
          "state": {
            "_dom_classes": [],
            "_model_module": "@jupyter-widgets/controls",
            "_model_module_version": "1.5.0",
            "_model_name": "HTMLModel",
            "_view_count": null,
            "_view_module": "@jupyter-widgets/controls",
            "_view_module_version": "1.5.0",
            "_view_name": "HTMLView",
            "description": "",
            "description_tooltip": null,
            "layout": "IPY_MODEL_946dc96c6be04b64a76b5b425e86ac7d",
            "placeholder": "​",
            "style": "IPY_MODEL_2817e4f3a7ae4614aff6dfdde17013f3",
            "value": " 438M/438M [00:06&lt;00:00, 40.1MB/s]"
          }
        },
        "4fd9ae6ca93f434c835965cc45555d0b": {
          "model_module": "@jupyter-widgets/base",
          "model_module_version": "1.2.0",
          "model_name": "LayoutModel",
          "state": {
            "_model_module": "@jupyter-widgets/base",
            "_model_module_version": "1.2.0",
            "_model_name": "LayoutModel",
            "_view_count": null,
            "_view_module": "@jupyter-widgets/base",
            "_view_module_version": "1.2.0",
            "_view_name": "LayoutView",
            "align_content": null,
            "align_items": null,
            "align_self": null,
            "border": null,
            "bottom": null,
            "display": null,
            "flex": null,
            "flex_flow": null,
            "grid_area": null,
            "grid_auto_columns": null,
            "grid_auto_flow": null,
            "grid_auto_rows": null,
            "grid_column": null,
            "grid_gap": null,
            "grid_row": null,
            "grid_template_areas": null,
            "grid_template_columns": null,
            "grid_template_rows": null,
            "height": null,
            "justify_content": null,
            "justify_items": null,
            "left": null,
            "margin": null,
            "max_height": null,
            "max_width": null,
            "min_height": null,
            "min_width": null,
            "object_fit": null,
            "object_position": null,
            "order": null,
            "overflow": null,
            "overflow_x": null,
            "overflow_y": null,
            "padding": null,
            "right": null,
            "top": null,
            "visibility": null,
            "width": null
          }
        },
        "5023c02f203e4f5f86ec729574934563": {
          "model_module": "@jupyter-widgets/controls",
          "model_module_version": "1.5.0",
          "model_name": "FloatProgressModel",
          "state": {
            "_dom_classes": [],
            "_model_module": "@jupyter-widgets/controls",
            "_model_module_version": "1.5.0",
            "_model_name": "FloatProgressModel",
            "_view_count": null,
            "_view_module": "@jupyter-widgets/controls",
            "_view_module_version": "1.5.0",
            "_view_name": "ProgressView",
            "bar_style": "success",
            "description": "",
            "description_tooltip": null,
            "layout": "IPY_MODEL_294a035798a3487ba3bea498dc8a02de",
            "max": 112,
            "min": 0,
            "orientation": "horizontal",
            "style": "IPY_MODEL_2cf11f0bd83649abaa03ed76e4ead6f8",
            "value": 112
          }
        },
        "50c4cbc85cb045ea8c1bf59f61b77b75": {
          "model_module": "@jupyter-widgets/controls",
          "model_module_version": "1.5.0",
          "model_name": "HTMLModel",
          "state": {
            "_dom_classes": [],
            "_model_module": "@jupyter-widgets/controls",
            "_model_module_version": "1.5.0",
            "_model_name": "HTMLModel",
            "_view_count": null,
            "_view_module": "@jupyter-widgets/controls",
            "_view_module_version": "1.5.0",
            "_view_name": "HTMLView",
            "description": "",
            "description_tooltip": null,
            "layout": "IPY_MODEL_f22ec9a6cc8343c9be235e2c21c6d52d",
            "placeholder": "​",
            "style": "IPY_MODEL_30449da953114efd996a458cdcff389c",
            "value": "pytorch_model.bin: 100%"
          }
        },
        "5ddfc9441a1546a98667669441da7bdd": {
          "model_module": "@jupyter-widgets/controls",
          "model_module_version": "1.5.0",
          "model_name": "DescriptionStyleModel",
          "state": {
            "_model_module": "@jupyter-widgets/controls",
            "_model_module_version": "1.5.0",
            "_model_name": "DescriptionStyleModel",
            "_view_count": null,
            "_view_module": "@jupyter-widgets/base",
            "_view_module_version": "1.2.0",
            "_view_name": "StyleView",
            "description_width": ""
          }
        },
        "5e7d52701cf1480393e505bc58073840": {
          "model_module": "@jupyter-widgets/controls",
          "model_module_version": "1.5.0",
          "model_name": "FloatProgressModel",
          "state": {
            "_dom_classes": [],
            "_model_module": "@jupyter-widgets/controls",
            "_model_module_version": "1.5.0",
            "_model_name": "FloatProgressModel",
            "_view_count": null,
            "_view_module": "@jupyter-widgets/controls",
            "_view_module_version": "1.5.0",
            "_view_name": "ProgressView",
            "bar_style": "success",
            "description": "",
            "description_tooltip": null,
            "layout": "IPY_MODEL_0f4332372a534054872c68dc2e875f37",
            "max": 209528,
            "min": 0,
            "orientation": "horizontal",
            "style": "IPY_MODEL_a5e0f68440f0466aa36bf7e09441207e",
            "value": 209528
          }
        },
        "6076190ecc294b6f8153e62173d43a93": {
          "model_module": "@jupyter-widgets/controls",
          "model_module_version": "1.5.0",
          "model_name": "HTMLModel",
          "state": {
            "_dom_classes": [],
            "_model_module": "@jupyter-widgets/controls",
            "_model_module_version": "1.5.0",
            "_model_name": "HTMLModel",
            "_view_count": null,
            "_view_module": "@jupyter-widgets/controls",
            "_view_module_version": "1.5.0",
            "_view_name": "HTMLView",
            "description": "",
            "description_tooltip": null,
            "layout": "IPY_MODEL_bbc13b211b744928bfd280b1093e194d",
            "placeholder": "​",
            "style": "IPY_MODEL_2f7975c0060e4c578a77888e37adebf9",
            "value": "config.json: 100%"
          }
        },
        "608a6bc3ce7947418d98fee70356a06f": {
          "model_module": "@jupyter-widgets/base",
          "model_module_version": "1.2.0",
          "model_name": "LayoutModel",
          "state": {
            "_model_module": "@jupyter-widgets/base",
            "_model_module_version": "1.2.0",
            "_model_name": "LayoutModel",
            "_view_count": null,
            "_view_module": "@jupyter-widgets/base",
            "_view_module_version": "1.2.0",
            "_view_name": "LayoutView",
            "align_content": null,
            "align_items": null,
            "align_self": null,
            "border": null,
            "bottom": null,
            "display": null,
            "flex": null,
            "flex_flow": null,
            "grid_area": null,
            "grid_auto_columns": null,
            "grid_auto_flow": null,
            "grid_auto_rows": null,
            "grid_column": null,
            "grid_gap": null,
            "grid_row": null,
            "grid_template_areas": null,
            "grid_template_columns": null,
            "grid_template_rows": null,
            "height": null,
            "justify_content": null,
            "justify_items": null,
            "left": null,
            "margin": null,
            "max_height": null,
            "max_width": null,
            "min_height": null,
            "min_width": null,
            "object_fit": null,
            "object_position": null,
            "order": null,
            "overflow": null,
            "overflow_x": null,
            "overflow_y": null,
            "padding": null,
            "right": null,
            "top": null,
            "visibility": null,
            "width": null
          }
        },
        "62af70c906d74770872149e036bbe852": {
          "model_module": "@jupyter-widgets/controls",
          "model_module_version": "1.5.0",
          "model_name": "HBoxModel",
          "state": {
            "_dom_classes": [],
            "_model_module": "@jupyter-widgets/controls",
            "_model_module_version": "1.5.0",
            "_model_name": "HBoxModel",
            "_view_count": null,
            "_view_module": "@jupyter-widgets/controls",
            "_view_module_version": "1.5.0",
            "_view_name": "HBoxView",
            "box_style": "",
            "children": [
              "IPY_MODEL_50c4cbc85cb045ea8c1bf59f61b77b75",
              "IPY_MODEL_72b417e19ad94574a824e36d75954c13",
              "IPY_MODEL_4fa68e060aa145b0be4e10c3b5eb6455"
            ],
            "layout": "IPY_MODEL_49a3acff12924e41bf05c9d8125cc40a"
          }
        },
        "64df4ddc221240b3a78e4a56c83e2389": {
          "model_module": "@jupyter-widgets/controls",
          "model_module_version": "1.5.0",
          "model_name": "DescriptionStyleModel",
          "state": {
            "_model_module": "@jupyter-widgets/controls",
            "_model_module_version": "1.5.0",
            "_model_name": "DescriptionStyleModel",
            "_view_count": null,
            "_view_module": "@jupyter-widgets/base",
            "_view_module_version": "1.2.0",
            "_view_name": "StyleView",
            "description_width": ""
          }
        },
        "64e4646abaf0457aa77b0c80044f4873": {
          "model_module": "@jupyter-widgets/controls",
          "model_module_version": "1.5.0",
          "model_name": "FloatProgressModel",
          "state": {
            "_dom_classes": [],
            "_model_module": "@jupyter-widgets/controls",
            "_model_module_version": "1.5.0",
            "_model_name": "FloatProgressModel",
            "_view_count": null,
            "_view_module": "@jupyter-widgets/controls",
            "_view_module_version": "1.5.0",
            "_view_name": "ProgressView",
            "bar_style": "success",
            "description": "",
            "description_tooltip": null,
            "layout": "IPY_MODEL_302051f125ae40179af39650575ebfa0",
            "max": 43,
            "min": 0,
            "orientation": "horizontal",
            "style": "IPY_MODEL_66bcbc1bec89468dbb03c042881446c5",
            "value": 43
          }
        },
        "66a217276cb14747a22bf4472cefea52": {
          "model_module": "@jupyter-widgets/base",
          "model_module_version": "1.2.0",
          "model_name": "LayoutModel",
          "state": {
            "_model_module": "@jupyter-widgets/base",
            "_model_module_version": "1.2.0",
            "_model_name": "LayoutModel",
            "_view_count": null,
            "_view_module": "@jupyter-widgets/base",
            "_view_module_version": "1.2.0",
            "_view_name": "LayoutView",
            "align_content": null,
            "align_items": null,
            "align_self": null,
            "border": null,
            "bottom": null,
            "display": null,
            "flex": null,
            "flex_flow": null,
            "grid_area": null,
            "grid_auto_columns": null,
            "grid_auto_flow": null,
            "grid_auto_rows": null,
            "grid_column": null,
            "grid_gap": null,
            "grid_row": null,
            "grid_template_areas": null,
            "grid_template_columns": null,
            "grid_template_rows": null,
            "height": null,
            "justify_content": null,
            "justify_items": null,
            "left": null,
            "margin": null,
            "max_height": null,
            "max_width": null,
            "min_height": null,
            "min_width": null,
            "object_fit": null,
            "object_position": null,
            "order": null,
            "overflow": null,
            "overflow_x": null,
            "overflow_y": null,
            "padding": null,
            "right": null,
            "top": null,
            "visibility": null,
            "width": null
          }
        },
        "66bcbc1bec89468dbb03c042881446c5": {
          "model_module": "@jupyter-widgets/controls",
          "model_module_version": "1.5.0",
          "model_name": "ProgressStyleModel",
          "state": {
            "_model_module": "@jupyter-widgets/controls",
            "_model_module_version": "1.5.0",
            "_model_name": "ProgressStyleModel",
            "_view_count": null,
            "_view_module": "@jupyter-widgets/base",
            "_view_module_version": "1.2.0",
            "_view_name": "StyleView",
            "bar_color": null,
            "description_width": ""
          }
        },
        "68ec62f9606a45ffa4ac855190a801fe": {
          "model_module": "@jupyter-widgets/controls",
          "model_module_version": "1.5.0",
          "model_name": "DescriptionStyleModel",
          "state": {
            "_model_module": "@jupyter-widgets/controls",
            "_model_module_version": "1.5.0",
            "_model_name": "DescriptionStyleModel",
            "_view_count": null,
            "_view_module": "@jupyter-widgets/base",
            "_view_module_version": "1.2.0",
            "_view_name": "StyleView",
            "description_width": ""
          }
        },
        "6d76177870964822ad2b8c7ee20dcc96": {
          "model_module": "@jupyter-widgets/controls",
          "model_module_version": "1.5.0",
          "model_name": "HTMLModel",
          "state": {
            "_dom_classes": [],
            "_model_module": "@jupyter-widgets/controls",
            "_model_module_version": "1.5.0",
            "_model_name": "HTMLModel",
            "_view_count": null,
            "_view_module": "@jupyter-widgets/controls",
            "_view_module_version": "1.5.0",
            "_view_name": "HTMLView",
            "description": "",
            "description_tooltip": null,
            "layout": "IPY_MODEL_608a6bc3ce7947418d98fee70356a06f",
            "placeholder": "​",
            "style": "IPY_MODEL_f150146f631e46bba9b6d9640d2f1e65",
            "value": " 647/647 [00:00&lt;00:00, 61.9kB/s]"
          }
        },
        "72b417e19ad94574a824e36d75954c13": {
          "model_module": "@jupyter-widgets/controls",
          "model_module_version": "1.5.0",
          "model_name": "FloatProgressModel",
          "state": {
            "_dom_classes": [],
            "_model_module": "@jupyter-widgets/controls",
            "_model_module_version": "1.5.0",
            "_model_name": "FloatProgressModel",
            "_view_count": null,
            "_view_module": "@jupyter-widgets/controls",
            "_view_module_version": "1.5.0",
            "_view_name": "ProgressView",
            "bar_style": "success",
            "description": "",
            "description_tooltip": null,
            "layout": "IPY_MODEL_3b9910eafc774213ac1f898d2e300ba9",
            "max": 438235074,
            "min": 0,
            "orientation": "horizontal",
            "style": "IPY_MODEL_0eb3975f47c94620842a77fd9856d498",
            "value": 438235074
          }
        },
        "769eb36b3d9d42898c460b8349bd693e": {
          "model_module": "@jupyter-widgets/controls",
          "model_module_version": "1.5.0",
          "model_name": "HTMLModel",
          "state": {
            "_dom_classes": [],
            "_model_module": "@jupyter-widgets/controls",
            "_model_module_version": "1.5.0",
            "_model_name": "HTMLModel",
            "_view_count": null,
            "_view_module": "@jupyter-widgets/controls",
            "_view_module_version": "1.5.0",
            "_view_name": "HTMLView",
            "description": "",
            "description_tooltip": null,
            "layout": "IPY_MODEL_3fdffea7be224a9da0605de4f3b1f660",
            "placeholder": "​",
            "style": "IPY_MODEL_39f0b1db21aa461faf910b6bf9cfa39a",
            "value": " 43.0/43.0 [00:00&lt;00:00, 2.74kB/s]"
          }
        },
        "77662243bf0a40348864a46b7dce36b4": {
          "model_module": "@jupyter-widgets/controls",
          "model_module_version": "1.5.0",
          "model_name": "FloatProgressModel",
          "state": {
            "_dom_classes": [],
            "_model_module": "@jupyter-widgets/controls",
            "_model_module_version": "1.5.0",
            "_model_name": "FloatProgressModel",
            "_view_count": null,
            "_view_module": "@jupyter-widgets/controls",
            "_view_module_version": "1.5.0",
            "_view_name": "ProgressView",
            "bar_style": "success",
            "description": "",
            "description_tooltip": null,
            "layout": "IPY_MODEL_20b7f91742d843588329ffa6e929c63d",
            "max": 2,
            "min": 0,
            "orientation": "horizontal",
            "style": "IPY_MODEL_cc86a6ab91584c5fae5b59e2d46261df",
            "value": 2
          }
        },
        "7ec8bb7f458540b7b52543d3602fbf2b": {
          "model_module": "@jupyter-widgets/controls",
          "model_module_version": "1.5.0",
          "model_name": "HTMLModel",
          "state": {
            "_dom_classes": [],
            "_model_module": "@jupyter-widgets/controls",
            "_model_module_version": "1.5.0",
            "_model_name": "HTMLModel",
            "_view_count": null,
            "_view_module": "@jupyter-widgets/controls",
            "_view_module_version": "1.5.0",
            "_view_name": "HTMLView",
            "description": "",
            "description_tooltip": null,
            "layout": "IPY_MODEL_1260b250023047adbbe640d78f8d88dd",
            "placeholder": "​",
            "style": "IPY_MODEL_c0875fea6f8c4c64b888760dd651dddc",
            "value": "added_tokens.json: 100%"
          }
        },
        "90884042f04245cabe07a71314dc1ff5": {
          "model_module": "@jupyter-widgets/base",
          "model_module_version": "1.2.0",
          "model_name": "LayoutModel",
          "state": {
            "_model_module": "@jupyter-widgets/base",
            "_model_module_version": "1.2.0",
            "_model_name": "LayoutModel",
            "_view_count": null,
            "_view_module": "@jupyter-widgets/base",
            "_view_module_version": "1.2.0",
            "_view_name": "LayoutView",
            "align_content": null,
            "align_items": null,
            "align_self": null,
            "border": null,
            "bottom": null,
            "display": null,
            "flex": null,
            "flex_flow": null,
            "grid_area": null,
            "grid_auto_columns": null,
            "grid_auto_flow": null,
            "grid_auto_rows": null,
            "grid_column": null,
            "grid_gap": null,
            "grid_row": null,
            "grid_template_areas": null,
            "grid_template_columns": null,
            "grid_template_rows": null,
            "height": null,
            "justify_content": null,
            "justify_items": null,
            "left": null,
            "margin": null,
            "max_height": null,
            "max_width": null,
            "min_height": null,
            "min_width": null,
            "object_fit": null,
            "object_position": null,
            "order": null,
            "overflow": null,
            "overflow_x": null,
            "overflow_y": null,
            "padding": null,
            "right": null,
            "top": null,
            "visibility": null,
            "width": null
          }
        },
        "946dc96c6be04b64a76b5b425e86ac7d": {
          "model_module": "@jupyter-widgets/base",
          "model_module_version": "1.2.0",
          "model_name": "LayoutModel",
          "state": {
            "_model_module": "@jupyter-widgets/base",
            "_model_module_version": "1.2.0",
            "_model_name": "LayoutModel",
            "_view_count": null,
            "_view_module": "@jupyter-widgets/base",
            "_view_module_version": "1.2.0",
            "_view_name": "LayoutView",
            "align_content": null,
            "align_items": null,
            "align_self": null,
            "border": null,
            "bottom": null,
            "display": null,
            "flex": null,
            "flex_flow": null,
            "grid_area": null,
            "grid_auto_columns": null,
            "grid_auto_flow": null,
            "grid_auto_rows": null,
            "grid_column": null,
            "grid_gap": null,
            "grid_row": null,
            "grid_template_areas": null,
            "grid_template_columns": null,
            "grid_template_rows": null,
            "height": null,
            "justify_content": null,
            "justify_items": null,
            "left": null,
            "margin": null,
            "max_height": null,
            "max_width": null,
            "min_height": null,
            "min_width": null,
            "object_fit": null,
            "object_position": null,
            "order": null,
            "overflow": null,
            "overflow_x": null,
            "overflow_y": null,
            "padding": null,
            "right": null,
            "top": null,
            "visibility": null,
            "width": null
          }
        },
        "a5e0f68440f0466aa36bf7e09441207e": {
          "model_module": "@jupyter-widgets/controls",
          "model_module_version": "1.5.0",
          "model_name": "ProgressStyleModel",
          "state": {
            "_model_module": "@jupyter-widgets/controls",
            "_model_module_version": "1.5.0",
            "_model_name": "ProgressStyleModel",
            "_view_count": null,
            "_view_module": "@jupyter-widgets/base",
            "_view_module_version": "1.2.0",
            "_view_name": "StyleView",
            "bar_color": null,
            "description_width": ""
          }
        },
        "aea98fd94f2948e094272c21b264ae74": {
          "model_module": "@jupyter-widgets/controls",
          "model_module_version": "1.5.0",
          "model_name": "HBoxModel",
          "state": {
            "_dom_classes": [],
            "_model_module": "@jupyter-widgets/controls",
            "_model_module_version": "1.5.0",
            "_model_name": "HBoxModel",
            "_view_count": null,
            "_view_module": "@jupyter-widgets/controls",
            "_view_module_version": "1.5.0",
            "_view_name": "HBoxView",
            "box_style": "",
            "children": [
              "IPY_MODEL_2d5ef0c442924c0b93ebea432a4e81dd",
              "IPY_MODEL_5e7d52701cf1480393e505bc58073840",
              "IPY_MODEL_26063ea556cc48619a1b42e6afe79414"
            ],
            "layout": "IPY_MODEL_0133aa283863461194114a373365f4c3"
          }
        },
        "af5a91221328476588e2ecf00b514cf0": {
          "model_module": "@jupyter-widgets/base",
          "model_module_version": "1.2.0",
          "model_name": "LayoutModel",
          "state": {
            "_model_module": "@jupyter-widgets/base",
            "_model_module_version": "1.2.0",
            "_model_name": "LayoutModel",
            "_view_count": null,
            "_view_module": "@jupyter-widgets/base",
            "_view_module_version": "1.2.0",
            "_view_name": "LayoutView",
            "align_content": null,
            "align_items": null,
            "align_self": null,
            "border": null,
            "bottom": null,
            "display": null,
            "flex": null,
            "flex_flow": null,
            "grid_area": null,
            "grid_auto_columns": null,
            "grid_auto_flow": null,
            "grid_auto_rows": null,
            "grid_column": null,
            "grid_gap": null,
            "grid_row": null,
            "grid_template_areas": null,
            "grid_template_columns": null,
            "grid_template_rows": null,
            "height": null,
            "justify_content": null,
            "justify_items": null,
            "left": null,
            "margin": null,
            "max_height": null,
            "max_width": null,
            "min_height": null,
            "min_width": null,
            "object_fit": null,
            "object_position": null,
            "order": null,
            "overflow": null,
            "overflow_x": null,
            "overflow_y": null,
            "padding": null,
            "right": null,
            "top": null,
            "visibility": null,
            "width": null
          }
        },
        "b8ec2043b2b14ae4b9b2576327ddf312": {
          "model_module": "@jupyter-widgets/controls",
          "model_module_version": "1.5.0",
          "model_name": "DescriptionStyleModel",
          "state": {
            "_model_module": "@jupyter-widgets/controls",
            "_model_module_version": "1.5.0",
            "_model_name": "DescriptionStyleModel",
            "_view_count": null,
            "_view_module": "@jupyter-widgets/base",
            "_view_module_version": "1.2.0",
            "_view_name": "StyleView",
            "description_width": ""
          }
        },
        "b9ab0d7cae9b4443b7796f98f5467269": {
          "model_module": "@jupyter-widgets/controls",
          "model_module_version": "1.5.0",
          "model_name": "HBoxModel",
          "state": {
            "_dom_classes": [],
            "_model_module": "@jupyter-widgets/controls",
            "_model_module_version": "1.5.0",
            "_model_name": "HBoxModel",
            "_view_count": null,
            "_view_module": "@jupyter-widgets/controls",
            "_view_module_version": "1.5.0",
            "_view_name": "HBoxView",
            "box_style": "",
            "children": [
              "IPY_MODEL_4715fcf8dbe746e29342ac8cf7edd3a6",
              "IPY_MODEL_64e4646abaf0457aa77b0c80044f4873",
              "IPY_MODEL_769eb36b3d9d42898c460b8349bd693e"
            ],
            "layout": "IPY_MODEL_4fd9ae6ca93f434c835965cc45555d0b"
          }
        },
        "bbc13b211b744928bfd280b1093e194d": {
          "model_module": "@jupyter-widgets/base",
          "model_module_version": "1.2.0",
          "model_name": "LayoutModel",
          "state": {
            "_model_module": "@jupyter-widgets/base",
            "_model_module_version": "1.2.0",
            "_model_name": "LayoutModel",
            "_view_count": null,
            "_view_module": "@jupyter-widgets/base",
            "_view_module_version": "1.2.0",
            "_view_name": "LayoutView",
            "align_content": null,
            "align_items": null,
            "align_self": null,
            "border": null,
            "bottom": null,
            "display": null,
            "flex": null,
            "flex_flow": null,
            "grid_area": null,
            "grid_auto_columns": null,
            "grid_auto_flow": null,
            "grid_auto_rows": null,
            "grid_column": null,
            "grid_gap": null,
            "grid_row": null,
            "grid_template_areas": null,
            "grid_template_columns": null,
            "grid_template_rows": null,
            "height": null,
            "justify_content": null,
            "justify_items": null,
            "left": null,
            "margin": null,
            "max_height": null,
            "max_width": null,
            "min_height": null,
            "min_width": null,
            "object_fit": null,
            "object_position": null,
            "order": null,
            "overflow": null,
            "overflow_x": null,
            "overflow_y": null,
            "padding": null,
            "right": null,
            "top": null,
            "visibility": null,
            "width": null
          }
        },
        "c0875fea6f8c4c64b888760dd651dddc": {
          "model_module": "@jupyter-widgets/controls",
          "model_module_version": "1.5.0",
          "model_name": "DescriptionStyleModel",
          "state": {
            "_model_module": "@jupyter-widgets/controls",
            "_model_module_version": "1.5.0",
            "_model_name": "DescriptionStyleModel",
            "_view_count": null,
            "_view_module": "@jupyter-widgets/base",
            "_view_module_version": "1.2.0",
            "_view_name": "StyleView",
            "description_width": ""
          }
        },
        "c5ed1be4c88c4092afe40802b6525b9a": {
          "model_module": "@jupyter-widgets/controls",
          "model_module_version": "1.5.0",
          "model_name": "HTMLModel",
          "state": {
            "_dom_classes": [],
            "_model_module": "@jupyter-widgets/controls",
            "_model_module_version": "1.5.0",
            "_model_name": "HTMLModel",
            "_view_count": null,
            "_view_module": "@jupyter-widgets/controls",
            "_view_module_version": "1.5.0",
            "_view_name": "HTMLView",
            "description": "",
            "description_tooltip": null,
            "layout": "IPY_MODEL_0e501652606b4767a6b342a35c6a5286",
            "placeholder": "​",
            "style": "IPY_MODEL_5ddfc9441a1546a98667669441da7bdd",
            "value": "special_tokens_map.json: 100%"
          }
        },
        "cbfd07cae479493db405af0dbe97a24b": {
          "model_module": "@jupyter-widgets/controls",
          "model_module_version": "1.5.0",
          "model_name": "DescriptionStyleModel",
          "state": {
            "_model_module": "@jupyter-widgets/controls",
            "_model_module_version": "1.5.0",
            "_model_name": "DescriptionStyleModel",
            "_view_count": null,
            "_view_module": "@jupyter-widgets/base",
            "_view_module_version": "1.2.0",
            "_view_name": "StyleView",
            "description_width": ""
          }
        },
        "cc86a6ab91584c5fae5b59e2d46261df": {
          "model_module": "@jupyter-widgets/controls",
          "model_module_version": "1.5.0",
          "model_name": "ProgressStyleModel",
          "state": {
            "_model_module": "@jupyter-widgets/controls",
            "_model_module_version": "1.5.0",
            "_model_name": "ProgressStyleModel",
            "_view_count": null,
            "_view_module": "@jupyter-widgets/base",
            "_view_module_version": "1.2.0",
            "_view_name": "StyleView",
            "bar_color": null,
            "description_width": ""
          }
        },
        "e62d91f5f87940fba957d156c8aafcd1": {
          "model_module": "@jupyter-widgets/base",
          "model_module_version": "1.2.0",
          "model_name": "LayoutModel",
          "state": {
            "_model_module": "@jupyter-widgets/base",
            "_model_module_version": "1.2.0",
            "_model_name": "LayoutModel",
            "_view_count": null,
            "_view_module": "@jupyter-widgets/base",
            "_view_module_version": "1.2.0",
            "_view_name": "LayoutView",
            "align_content": null,
            "align_items": null,
            "align_self": null,
            "border": null,
            "bottom": null,
            "display": null,
            "flex": null,
            "flex_flow": null,
            "grid_area": null,
            "grid_auto_columns": null,
            "grid_auto_flow": null,
            "grid_auto_rows": null,
            "grid_column": null,
            "grid_gap": null,
            "grid_row": null,
            "grid_template_areas": null,
            "grid_template_columns": null,
            "grid_template_rows": null,
            "height": null,
            "justify_content": null,
            "justify_items": null,
            "left": null,
            "margin": null,
            "max_height": null,
            "max_width": null,
            "min_height": null,
            "min_width": null,
            "object_fit": null,
            "object_position": null,
            "order": null,
            "overflow": null,
            "overflow_x": null,
            "overflow_y": null,
            "padding": null,
            "right": null,
            "top": null,
            "visibility": null,
            "width": null
          }
        },
        "f150146f631e46bba9b6d9640d2f1e65": {
          "model_module": "@jupyter-widgets/controls",
          "model_module_version": "1.5.0",
          "model_name": "DescriptionStyleModel",
          "state": {
            "_model_module": "@jupyter-widgets/controls",
            "_model_module_version": "1.5.0",
            "_model_name": "DescriptionStyleModel",
            "_view_count": null,
            "_view_module": "@jupyter-widgets/base",
            "_view_module_version": "1.2.0",
            "_view_name": "StyleView",
            "description_width": ""
          }
        },
        "f22ec9a6cc8343c9be235e2c21c6d52d": {
          "model_module": "@jupyter-widgets/base",
          "model_module_version": "1.2.0",
          "model_name": "LayoutModel",
          "state": {
            "_model_module": "@jupyter-widgets/base",
            "_model_module_version": "1.2.0",
            "_model_name": "LayoutModel",
            "_view_count": null,
            "_view_module": "@jupyter-widgets/base",
            "_view_module_version": "1.2.0",
            "_view_name": "LayoutView",
            "align_content": null,
            "align_items": null,
            "align_self": null,
            "border": null,
            "bottom": null,
            "display": null,
            "flex": null,
            "flex_flow": null,
            "grid_area": null,
            "grid_auto_columns": null,
            "grid_auto_flow": null,
            "grid_auto_rows": null,
            "grid_column": null,
            "grid_gap": null,
            "grid_row": null,
            "grid_template_areas": null,
            "grid_template_columns": null,
            "grid_template_rows": null,
            "height": null,
            "justify_content": null,
            "justify_items": null,
            "left": null,
            "margin": null,
            "max_height": null,
            "max_width": null,
            "min_height": null,
            "min_width": null,
            "object_fit": null,
            "object_position": null,
            "order": null,
            "overflow": null,
            "overflow_x": null,
            "overflow_y": null,
            "padding": null,
            "right": null,
            "top": null,
            "visibility": null,
            "width": null
          }
        },
        "f4cc67426edf4e80b63970005c3f11ee": {
          "model_module": "@jupyter-widgets/controls",
          "model_module_version": "1.5.0",
          "model_name": "HBoxModel",
          "state": {
            "_dom_classes": [],
            "_model_module": "@jupyter-widgets/controls",
            "_model_module_version": "1.5.0",
            "_model_name": "HBoxModel",
            "_view_count": null,
            "_view_module": "@jupyter-widgets/controls",
            "_view_module_version": "1.5.0",
            "_view_name": "HBoxView",
            "box_style": "",
            "children": [
              "IPY_MODEL_7ec8bb7f458540b7b52543d3602fbf2b",
              "IPY_MODEL_77662243bf0a40348864a46b7dce36b4",
              "IPY_MODEL_084870e2de5d4adeb4802c5abfae3927"
            ],
            "layout": "IPY_MODEL_90884042f04245cabe07a71314dc1ff5"
          }
        }
      }
    }
  },
  "nbformat": 4,
  "nbformat_minor": 0
}
