{
 "cells": [
  {
   "cell_type": "markdown",
   "id": "83553089",
   "metadata": {},
   "source": [
    "# Dataset IMDB"
   ]
  },
  {
   "cell_type": "markdown",
   "id": "be9cea51",
   "metadata": {},
   "source": [
    "Vamos baixar o dataset que contém 50 mil avaliações de filmes do [IMDB](https://www.kaggle.com/datasets/lakshmi25npathi/imdb-dataset-of-50k-movie-reviews) do Kaggle, para isso antes precisamos instalar a biblioteca do Kangle:"
   ]
  },
  {
   "cell_type": "code",
   "execution_count": null,
   "id": "3f0e22fe",
   "metadata": {},
   "outputs": [],
   "source": [
    "!pip install kaggle"
   ]
  },
  {
   "cell_type": "code",
   "execution_count": null,
   "id": "2559a1bd",
   "metadata": {},
   "outputs": [],
   "source": [
    "import os\n",
    "import zipfile"
   ]
  },
  {
   "cell_type": "markdown",
   "id": "dfe53505",
   "metadata": {},
   "source": [
    "Após isso, vamos baixar e criar o diretório do nosso dataset com os seguintes comandos:"
   ]
  },
  {
   "cell_type": "code",
   "execution_count": null,
   "id": "ab90a5dd",
   "metadata": {},
   "outputs": [],
   "source": [
    "if not os.path.exists('../imdb-reviews.zip'):\n",
    "    os.system('kaggle datasets download -d lakshmi25npathi/imdb-dataset-of-50k-movie-reviews -p ../')\n",
    "    print('Download completo.')\n",
    "\n",
    "if not os.path.exists('../dataset'):\n",
    "    with zipfile.ZipFile('../imdb-dataset-of-50k-movie-reviews.zip', 'r') as zip_ref:\n",
    "        zip_ref.extractall('../dataset')\n",
    "    print('Dataset extraído.')\n",
    "else:\n",
    "    print('Dataset já existe.')"
   ]
  }
 ],
 "metadata": {
  "kernelspec": {
   "display_name": "venv",
   "language": "python",
   "name": "python3"
  },
  "language_info": {
   "codemirror_mode": {
    "name": "ipython",
    "version": 3
   },
   "file_extension": ".py",
   "mimetype": "text/x-python",
   "name": "python",
   "nbconvert_exporter": "python",
   "pygments_lexer": "ipython3",
   "version": "3.10.11"
  }
 },
 "nbformat": 4,
 "nbformat_minor": 5
}
