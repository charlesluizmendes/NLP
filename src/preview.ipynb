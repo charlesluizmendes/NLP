{
 "cells": [
  {
   "cell_type": "markdown",
   "metadata": {
    "id": "y4ICpNayURhv"
   },
   "source": [
    "# Dataset"
   ]
  },
  {
   "cell_type": "code",
   "execution_count": null,
   "metadata": {
    "colab": {
     "base_uri": "https://localhost:8080/"
    },
    "executionInfo": {
     "elapsed": 3628,
     "status": "ok",
     "timestamp": 1743784404966,
     "user": {
      "displayName": "Charles Mendes",
      "userId": "12076106897405312609"
     },
     "user_tz": 180
    },
    "id": "hhjGIJPwT4jD",
    "outputId": "8d9346f2-6785-4ebf-a5df-6bfc4242c9c6"
   },
   "outputs": [],
   "source": [
    "!pip install pandas seaborn tqdm google-play-scraper"
   ]
  },
  {
   "cell_type": "code",
   "execution_count": null,
   "metadata": {
    "executionInfo": {
     "elapsed": 1278,
     "status": "ok",
     "timestamp": 1743784446653,
     "user": {
      "displayName": "Charles Mendes",
      "userId": "12076106897405312609"
     },
     "user_tz": 180
    },
    "id": "XE2MTH-7TvNm"
   },
   "outputs": [],
   "source": [
    "import os\n",
    "import pandas as pd\n",
    "import seaborn as sns\n",
    "\n",
    "from tqdm import tqdm\n",
    "from google_play_scraper import Sort, reviews, app\n",
    "\n",
    "%matplotlib inline\n",
    "%config InlineBackend.figure_format='retina'\n",
    "\n",
    "sns.set(style='whitegrid', palette='muted', font_scale=1.2)"
   ]
  },
  {
   "cell_type": "markdown",
   "metadata": {
    "id": "Ivhl7kSGUEGR"
   },
   "source": [
    "## Alguns App de Comida e Alimentacao no Brasil\n",
    "\n",
    "1. iFodd ⇒ br.com.brainweb.ifood\n",
    "2. Zé delivery ⇒ com.cerveceriamodelo.modelonow\n",
    "3. McDonald's ⇒ com.mcdo.mcdonalds\n",
    "4. Habibi's ⇒ habibs.alphacode.com.br\n",
    "5. Uber Eats ⇒ com.ubercab.eats\n",
    "6. Rappi ⇒ com.grability.rappi\n",
    "7. Burker King ⇒ burgerking.com.br.appandroid\n",
    "8. Aiqfome ⇒ com.vanuatu.aiqfome"
   ]
  },
  {
   "cell_type": "code",
   "execution_count": null,
   "metadata": {
    "executionInfo": {
     "elapsed": 6,
     "status": "ok",
     "timestamp": 1743784452912,
     "user": {
      "displayName": "Charles Mendes",
      "userId": "12076106897405312609"
     },
     "user_tz": 180
    },
    "id": "bNfxsZbfT1M8"
   },
   "outputs": [],
   "source": [
    "apps_ids = [\n",
    "    'br.com.brainweb.ifood',\n",
    "    'com.cerveceriamodelo.modelonow',\n",
    "    'com.mcdo.mcdonalds', 'habibs.alphacode.com.br',\n",
    "    'com.ubercab.eats',\n",
    "    'com.grability.rappi',\n",
    "    'burgerking.com.br.appandroid',\n",
    "    'com.vanuatu.aiqfome'\n",
    "]"
   ]
  },
  {
   "cell_type": "markdown",
   "metadata": {
    "id": "lJcV4fGKWKub"
   },
   "source": [
    "Dados de Cada Aplicativo"
   ]
  },
  {
   "cell_type": "code",
   "execution_count": null,
   "metadata": {
    "colab": {
     "base_uri": "https://localhost:8080/"
    },
    "executionInfo": {
     "elapsed": 3807,
     "status": "ok",
     "timestamp": 1743784458807,
     "user": {
      "displayName": "Charles Mendes",
      "userId": "12076106897405312609"
     },
     "user_tz": 180
    },
    "id": "7KHikUDCWM0E",
    "outputId": "c3f59f08-c869-483d-a1d8-acb56284f405"
   },
   "outputs": [],
   "source": [
    "app_infos = []\n",
    "\n",
    "for ap in tqdm(apps_ids):\n",
    "    info = app(ap, lang='en', country='us')\n",
    "    del info['comments']\n",
    "    app_infos.append(info)"
   ]
  },
  {
   "cell_type": "code",
   "execution_count": null,
   "metadata": {
    "colab": {
     "base_uri": "https://localhost:8080/",
     "height": 707
    },
    "executionInfo": {
     "elapsed": 93,
     "status": "ok",
     "timestamp": 1743784461768,
     "user": {
      "displayName": "Charles Mendes",
      "userId": "12076106897405312609"
     },
     "user_tz": 180
    },
    "id": "5oZHhlKmWN5Y",
    "outputId": "fbb25d72-f366-436d-f902-197001d618cf"
   },
   "outputs": [],
   "source": [
    "app_infos_df = pd.DataFrame(app_infos)\n",
    "app_infos_df.head()"
   ]
  },
  {
   "cell_type": "markdown",
   "metadata": {
    "id": "o_Sbkh5NWe4E"
   },
   "source": [
    "## Apps Previews\n",
    "\n",
    "Queremos:\n",
    "* Conjunto de dados equilibrado — aproximadamente o mesmo número de avaliações para cada pontuação (1–5)\n",
    "* Uma amostra representativa das avaliações para cada aplicativo\n",
    "\n",
    "Podemos satisfazer o primeiro requisito usando a opção de pacote de scraping para filtrar a pontuação da avaliação. Para o segundo, classificaremos as avaliações por sua utilidade, que são as avaliações que o Google Play considera mais importantes."
   ]
  },
  {
   "cell_type": "code",
   "execution_count": null,
   "metadata": {
    "colab": {
     "base_uri": "https://localhost:8080/"
    },
    "executionInfo": {
     "elapsed": 26086,
     "status": "ok",
     "timestamp": 1743784492146,
     "user": {
      "displayName": "Charles Mendes",
      "userId": "12076106897405312609"
     },
     "user_tz": 180
    },
    "id": "LskH3ZFPWfy3",
    "outputId": "2eef4a7b-036f-467e-c1b0-3f7ec2dd5ba0"
   },
   "outputs": [],
   "source": [
    "app_reviews = []\n",
    "\n",
    "for ap in tqdm(apps_ids):\n",
    "    for score in list(range(1, 6)):\n",
    "        for sort_order in [Sort.MOST_RELEVANT, Sort.NEWEST]:\n",
    "            rvs, _ = reviews(\n",
    "                ap,\n",
    "                lang='pt',\n",
    "                country='br',\n",
    "                sort=sort_order,\n",
    "                count= 200 if score == 3 else 100,\n",
    "                filter_score_with=score\n",
    "            )\n",
    "            for r in rvs:\n",
    "                r['sortOrder'] = 'most_relevant' if sort_order == Sort.MOST_RELEVANT else 'newest'\n",
    "                r['appId'] = ap\n",
    "            app_reviews.extend(rvs)"
   ]
  },
  {
   "cell_type": "code",
   "execution_count": null,
   "metadata": {
    "colab": {
     "base_uri": "https://localhost:8080/"
    },
    "executionInfo": {
     "elapsed": 10,
     "status": "ok",
     "timestamp": 1743784495854,
     "user": {
      "displayName": "Charles Mendes",
      "userId": "12076106897405312609"
     },
     "user_tz": 180
    },
    "id": "5hQjouWFWjQL",
    "outputId": "3b0b618d-1f4d-42d6-843e-f2e74052d0ce"
   },
   "outputs": [],
   "source": [
    "len(app_reviews)"
   ]
  },
  {
   "cell_type": "markdown",
   "metadata": {
    "id": "U4FSjNC8WrB6"
   },
   "source": [
    "Salvando avaliações em um arquivo CSV"
   ]
  },
  {
   "cell_type": "code",
   "execution_count": null,
   "metadata": {
    "executionInfo": {
     "elapsed": 29,
     "status": "ok",
     "timestamp": 1743784498252,
     "user": {
      "displayName": "Charles Mendes",
      "userId": "12076106897405312609"
     },
     "user_tz": 180
    },
    "id": "M6g1bxdjWrb7"
   },
   "outputs": [],
   "source": [
    "app_reviews_df = pd.DataFrame(app_reviews)"
   ]
  },
  {
   "cell_type": "code",
   "execution_count": null,
   "metadata": {
    "colab": {
     "base_uri": "https://localhost:8080/",
     "height": 556
    },
    "executionInfo": {
     "elapsed": 157,
     "status": "ok",
     "timestamp": 1743784499802,
     "user": {
      "displayName": "Charles Mendes",
      "userId": "12076106897405312609"
     },
     "user_tz": 180
    },
    "id": "8aPS9GSpXaan",
    "outputId": "0c7b4e14-05b2-4319-f203-f9193aa45553"
   },
   "outputs": [],
   "source": [
    "app_reviews_df.head()"
   ]
  },
  {
   "cell_type": "code",
   "execution_count": null,
   "metadata": {
    "executionInfo": {
     "elapsed": 193,
     "status": "ok",
     "timestamp": 1743784503044,
     "user": {
      "displayName": "Charles Mendes",
      "userId": "12076106897405312609"
     },
     "user_tz": 180
    },
    "id": "s4BQ6l4ZXZas"
   },
   "outputs": [],
   "source": [
    "os.makedirs(\"../dataset\", exist_ok=True)\n",
    "app_reviews_df.to_csv('../dataset/ifood Dataset.csv', index=None, header=True)"
   ]
  }
 ],
 "metadata": {
  "accelerator": "GPU",
  "colab": {
   "provenance": []
  },
  "kernelspec": {
   "display_name": "venv",
   "language": "python",
   "name": "python3"
  },
  "language_info": {
   "codemirror_mode": {
    "name": "ipython",
    "version": 3
   },
   "file_extension": ".py",
   "mimetype": "text/x-python",
   "name": "python",
   "nbconvert_exporter": "python",
   "pygments_lexer": "ipython3",
   "version": "3.10.11"
  }
 },
 "nbformat": 4,
 "nbformat_minor": 0
}
