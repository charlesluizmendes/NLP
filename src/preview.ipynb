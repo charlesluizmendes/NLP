{
 "cells": [
  {
   "cell_type": "code",
   "execution_count": 18,
   "id": "3f0e22fe",
   "metadata": {},
   "outputs": [
    {
     "name": "stdout",
     "output_type": "stream",
     "text": [
      "Requirement already satisfied: kaggle in d:\\visual code\\nlp\\venv\\lib\\site-packages (1.7.4.2)\n",
      "Requirement already satisfied: charset-normalizer in d:\\visual code\\nlp\\venv\\lib\\site-packages (from kaggle) (3.4.1)\n",
      "Requirement already satisfied: python-slugify in d:\\visual code\\nlp\\venv\\lib\\site-packages (from kaggle) (8.0.4)\n",
      "Requirement already satisfied: python-dateutil>=2.5.3 in d:\\visual code\\nlp\\venv\\lib\\site-packages (from kaggle) (2.9.0.post0)\n",
      "Requirement already satisfied: requests in d:\\visual code\\nlp\\venv\\lib\\site-packages (from kaggle) (2.32.3)\n",
      "Requirement already satisfied: certifi>=14.05.14 in d:\\visual code\\nlp\\venv\\lib\\site-packages (from kaggle) (2025.1.31)\n",
      "Requirement already satisfied: six>=1.10 in d:\\visual code\\nlp\\venv\\lib\\site-packages (from kaggle) (1.17.0)\n",
      "Requirement already satisfied: text-unidecode in d:\\visual code\\nlp\\venv\\lib\\site-packages (from kaggle) (1.3)\n",
      "Requirement already satisfied: urllib3>=1.15.1 in d:\\visual code\\nlp\\venv\\lib\\site-packages (from kaggle) (2.4.0)\n",
      "Requirement already satisfied: bleach in d:\\visual code\\nlp\\venv\\lib\\site-packages (from kaggle) (6.2.0)\n",
      "Requirement already satisfied: idna in d:\\visual code\\nlp\\venv\\lib\\site-packages (from kaggle) (3.10)\n",
      "Requirement already satisfied: setuptools>=21.0.0 in d:\\visual code\\nlp\\venv\\lib\\site-packages (from kaggle) (65.5.0)\n",
      "Requirement already satisfied: tqdm in d:\\visual code\\nlp\\venv\\lib\\site-packages (from kaggle) (4.67.1)\n",
      "Requirement already satisfied: webencodings in d:\\visual code\\nlp\\venv\\lib\\site-packages (from kaggle) (0.5.1)\n",
      "Requirement already satisfied: protobuf in d:\\visual code\\nlp\\venv\\lib\\site-packages (from kaggle) (6.30.2)\n",
      "Requirement already satisfied: colorama in d:\\visual code\\nlp\\venv\\lib\\site-packages (from tqdm->kaggle) (0.4.6)\n"
     ]
    },
    {
     "name": "stderr",
     "output_type": "stream",
     "text": [
      "\n",
      "[notice] A new release of pip is available: 23.0.1 -> 25.0.1\n",
      "[notice] To update, run: python.exe -m pip install --upgrade pip\n"
     ]
    }
   ],
   "source": [
    "!pip install kaggle"
   ]
  },
  {
   "cell_type": "code",
   "execution_count": 19,
   "id": "ab90a5dd",
   "metadata": {},
   "outputs": [
    {
     "name": "stdout",
     "output_type": "stream",
     "text": [
      "Download completo.\n",
      "Dataset extraído.\n"
     ]
    }
   ],
   "source": [
    "import os\n",
    "import zipfile\n",
    "\n",
    "# Download via Kaggle API\n",
    "if not os.path.exists('../imdb-reviews.zip'):\n",
    "    os.system('kaggle datasets download -d lakshmi25npathi/imdb-dataset-of-50k-movie-reviews -p ../')\n",
    "    print('Download completo.')\n",
    "\n",
    "# Extração\n",
    "if not os.path.exists('../dataset'):\n",
    "    with zipfile.ZipFile('../imdb-dataset-of-50k-movie-reviews.zip', 'r') as zip_ref:\n",
    "        zip_ref.extractall('../dataset')\n",
    "    print('Dataset extraído.')\n",
    "else:\n",
    "    print('Dataset já existe.')"
   ]
  }
 ],
 "metadata": {
  "kernelspec": {
   "display_name": "venv",
   "language": "python",
   "name": "python3"
  },
  "language_info": {
   "codemirror_mode": {
    "name": "ipython",
    "version": 3
   },
   "file_extension": ".py",
   "mimetype": "text/x-python",
   "name": "python",
   "nbconvert_exporter": "python",
   "pygments_lexer": "ipython3",
   "version": "3.10.11"
  }
 },
 "nbformat": 4,
 "nbformat_minor": 5
}
